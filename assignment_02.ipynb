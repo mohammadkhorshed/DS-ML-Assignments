{
 "cells": [
  {
   "cell_type": "markdown",
   "metadata": {},
   "source": [
    "# 115 Problems on Basic Python\n",
    "\n",
    "✅ This assignment (Assignment-02) is completed by `Mohammad Khorshed Alam`\n",
    "\n",
    "---"
   ]
  },
  {
   "cell_type": "markdown",
   "metadata": {},
   "source": [
    "## Basic Problems:"
   ]
  },
  {
   "cell_type": "markdown",
   "metadata": {},
   "source": [
    "**1. Variable Swap:** Write a Python program to swap the values of two variables without using a temporary variable."
   ]
  },
  {
   "cell_type": "code",
   "execution_count": 2,
   "metadata": {},
   "outputs": [
    {
     "name": "stdout",
     "output_type": "stream",
     "text": [
      "Before swap:\n",
      "a: 3, b: 5\n",
      "\n",
      "After swap:\n",
      "a: 5, b: 3\n"
     ]
    }
   ],
   "source": [
    "a, b = 3, 5\n",
    "print(f\"Before swap:\\na: {a}, b: {b}\")\n",
    "a, b = b, a\n",
    "print(f\"\\nAfter swap:\\na: {a}, b: {b}\")"
   ]
  },
  {
   "cell_type": "markdown",
   "metadata": {},
   "source": [
    "**2. Even or Odd:** Write a Python program that takes an integer as input and prints whether it is even or odd."
   ]
  },
  {
   "cell_type": "code",
   "execution_count": 5,
   "metadata": {},
   "outputs": [
    {
     "name": "stdout",
     "output_type": "stream",
     "text": [
      "Odd\n"
     ]
    }
   ],
   "source": [
    "def detect_even_odd(x: int):\n",
    "    return \"Even\" if x % 2 == 0 else \"Odd\"\n",
    "\n",
    "print(detect_even_odd(7))"
   ]
  },
  {
   "cell_type": "markdown",
   "metadata": {},
   "source": [
    "**3. String Reverse:** Write a Python function to reverse a given string and return the reversed string."
   ]
  },
  {
   "cell_type": "code",
   "execution_count": 7,
   "metadata": {},
   "outputs": [
    {
     "name": "stdout",
     "output_type": "stream",
     "text": [
      "ecneicS ataD\n"
     ]
    }
   ],
   "source": [
    "def reverse_string(s: str):\n",
    "    return s[::-1]\n",
    "\n",
    "print(reverse_string(\"Data Science\"))"
   ]
  },
  {
   "cell_type": "markdown",
   "metadata": {},
   "source": [
    "**4. Type Conversion:** Given a list of integers, write a Python program to convert each element of the list to a string."
   ]
  },
  {
   "cell_type": "code",
   "execution_count": 8,
   "metadata": {},
   "outputs": [
    {
     "data": {
      "text/plain": [
       "['1', '2', '3']"
      ]
     },
     "execution_count": 8,
     "metadata": {},
     "output_type": "execute_result"
    }
   ],
   "source": [
    "def int_to_str(li: list):\n",
    "    return [str(n) for n in li]\n",
    "\n",
    "int_to_str([1, 2, 3])"
   ]
  },
  {
   "cell_type": "markdown",
   "metadata": {},
   "source": [
    "**5. Temperature Converter:** Write a Python program that converts a temperature in Celsius to Fahrenheit. Take the Celsius temperature as input from the user."
   ]
  },
  {
   "cell_type": "code",
   "execution_count": 12,
   "metadata": {},
   "outputs": [
    {
     "data": {
      "text/plain": [
       "77.0"
      ]
     },
     "execution_count": 12,
     "metadata": {},
     "output_type": "execute_result"
    }
   ],
   "source": [
    "def celsius_to_fahr():\n",
    "    cel = float(input(\"Enter temperature in Celsisus: \"))\n",
    "    return round((cel * 9 / 5) + 32, 1)\n",
    "\n",
    "celsius_to_fahr()"
   ]
  },
  {
   "cell_type": "markdown",
   "metadata": {},
   "source": [
    "**6. Data Type Checker:** Write a Python function that takes a variable as input and returns the data type of the variable as a string (e.g., “int”, “float”, “str”, “list”, etc.)."
   ]
  },
  {
   "cell_type": "code",
   "execution_count": 23,
   "metadata": {},
   "outputs": [
    {
     "data": {
      "text/plain": [
       "'int'"
      ]
     },
     "execution_count": 23,
     "metadata": {},
     "output_type": "execute_result"
    }
   ],
   "source": [
    "def find_data_type(x):\n",
    "    return type(x).__name__\n",
    "\n",
    "find_data_type(12)"
   ]
  },
  {
   "cell_type": "markdown",
   "metadata": {},
   "source": [
    "**7. String Palindrome:** Write a Python function to check if a given string is a palindrome or not."
   ]
  },
  {
   "cell_type": "code",
   "execution_count": 24,
   "metadata": {},
   "outputs": [
    {
     "data": {
      "text/plain": [
       "True"
      ]
     },
     "execution_count": 24,
     "metadata": {},
     "output_type": "execute_result"
    }
   ],
   "source": [
    "def check_palindrome(s: str):\n",
    "    return s.lower() == s[::-1].lower()\n",
    "\n",
    "check_palindrome(\"Madam\")"
   ]
  },
  {
   "cell_type": "markdown",
   "metadata": {},
   "source": [
    "**8. String Reversal with Slicing:** Write a Python function to reverse a given string using slicing."
   ]
  },
  {
   "cell_type": "code",
   "execution_count": 26,
   "metadata": {},
   "outputs": [
    {
     "data": {
      "text/plain": [
       "'mraF laminA'"
      ]
     },
     "execution_count": 26,
     "metadata": {},
     "output_type": "execute_result"
    }
   ],
   "source": [
    "def reverse_string(s: str):\n",
    "    return s[::-1]\n",
    "\n",
    "reverse_string(\"Animal Farm\")"
   ]
  },
  {
   "cell_type": "markdown",
   "metadata": {},
   "source": [
    "**9. String Concatenation:** Write a Python program that takes two strings as input and concatenates them into a single string without using the `+` operator."
   ]
  },
  {
   "cell_type": "code",
   "execution_count": 35,
   "metadata": {},
   "outputs": [
    {
     "data": {
      "text/plain": [
       "'ImitationGame'"
      ]
     },
     "execution_count": 35,
     "metadata": {},
     "output_type": "execute_result"
    }
   ],
   "source": [
    "def concat_str(s1: str, s2: str):\n",
    "    return ''.join([s1, s2])\n",
    "\n",
    "concat_str(\"Imitation\", \"Game\")"
   ]
  },
  {
   "cell_type": "code",
   "execution_count": 36,
   "metadata": {},
   "outputs": [
    {
     "data": {
      "text/plain": [
       "'ImitationGame'"
      ]
     },
     "execution_count": 36,
     "metadata": {},
     "output_type": "execute_result"
    }
   ],
   "source": [
    "def concat_str(s1: str, s2: str):\n",
    "    return f\"{s1}{s2}\"\n",
    "\n",
    "concat_str(\"Imitation\", \"Game\")"
   ]
  },
  {
   "cell_type": "markdown",
   "metadata": {},
   "source": [
    "**10. Typecasting Challenge:** Given three variables: `a = ‘100’`, `b = 25`, and `c = ‘10.5’`, write a Python program to perform the following operations and print the results: – Convert `a` to an integer and add it to `b`. – Convert `c` to a float and subtract it from the result of the first operation. – Convert the final result to a string and concatenate it with the string ” is the answer.”"
   ]
  },
  {
   "cell_type": "code",
   "execution_count": 40,
   "metadata": {},
   "outputs": [
    {
     "data": {
      "text/plain": [
       "'114.5 is the answer.'"
      ]
     },
     "execution_count": 40,
     "metadata": {},
     "output_type": "execute_result"
    }
   ],
   "source": [
    "def weird_operation(a: str, b: int, c: str):\n",
    "    return f\"{int(a) + b - float(c)} is the answer.\"\n",
    "\n",
    "weird_operation('100', 25, '10.5')"
   ]
  },
  {
   "cell_type": "markdown",
   "metadata": {},
   "source": [
    "## Python Conditional Statements:"
   ]
  },
  {
   "cell_type": "markdown",
   "metadata": {},
   "source": [
    "**11. Positive, Negative, or Zero:** Write a Python program that takes a number as input and prints whether it is positive, negative, or zero."
   ]
  },
  {
   "cell_type": "code",
   "execution_count": 43,
   "metadata": {},
   "outputs": [
    {
     "data": {
      "text/plain": [
       "'Negative'"
      ]
     },
     "execution_count": 43,
     "metadata": {},
     "output_type": "execute_result"
    }
   ],
   "source": [
    "def check_number(x: int) -> str:\n",
    "    if x > 0:\n",
    "        return 'Positive'\n",
    "    return 'Zero' if x == 0 else 'Negative'\n",
    "\n",
    "check_number(-7)"
   ]
  },
  {
   "cell_type": "markdown",
   "metadata": {},
   "source": [
    "**12. Largest of Three Numbers:** Write a Python program that takes three numbers as input and prints the largest among them."
   ]
  },
  {
   "cell_type": "code",
   "execution_count": 46,
   "metadata": {},
   "outputs": [
    {
     "data": {
      "text/plain": [
       "7"
      ]
     },
     "execution_count": 46,
     "metadata": {},
     "output_type": "execute_result"
    }
   ],
   "source": [
    "def largest_num(a: int, b: int, c: int) -> int:\n",
    "    return a if a >= b and b >= c else (b if b >= c else c)\n",
    "\n",
    "largest_num(5, 3, 7)"
   ]
  },
  {
   "cell_type": "markdown",
   "metadata": {},
   "source": [
    "**13. Leap Year Checker:** Write a Python program that takes a year as input and determines if it is a leap year or not."
   ]
  },
  {
   "cell_type": "code",
   "execution_count": 59,
   "metadata": {},
   "outputs": [
    {
     "data": {
      "text/plain": [
       "True"
      ]
     },
     "execution_count": 59,
     "metadata": {},
     "output_type": "execute_result"
    }
   ],
   "source": [
    "def check_leap_year(y: int) -> bool:\n",
    "    return True if (y % 4 == 0 and (y % 100 != 0 or y % 400 == 0)) else False\n",
    "\n",
    "check_leap_year(2000)"
   ]
  },
  {
   "cell_type": "markdown",
   "metadata": {},
   "source": [
    "**14. Grades Classification:** Write a Python program that takes a student’s percentage as input and prints their corresponding grade according to the following criteria: – 90% or above: A+ – 80-89%: A – 70-79%: B – 60-69%: C – Below 60%: Fail"
   ]
  },
  {
   "cell_type": "code",
   "execution_count": 66,
   "metadata": {},
   "outputs": [
    {
     "name": "stdout",
     "output_type": "stream",
     "text": [
      "A-\n",
      "Fail\n",
      "A+\n"
     ]
    }
   ],
   "source": [
    "grade_map = {\n",
    "    90: 'A+',\n",
    "    80: 'A',\n",
    "    70: 'A-',\n",
    "    60: 'B'\n",
    "}\n",
    "\n",
    "def find_grade(p: int, g: dict) -> str:\n",
    "    if not 0 <= p <= 100:\n",
    "        return \"Invalid score!\"\n",
    "    for threshold in sorted(g.keys(), reverse= True):\n",
    "        if p >= threshold:\n",
    "            return g[threshold]\n",
    "    return 'Fail'\n",
    "\n",
    "print(find_grade(78, grade_map))\n",
    "print(find_grade(45, grade_map))\n",
    "print(find_grade(95, grade_map))"
   ]
  },
  {
   "cell_type": "markdown",
   "metadata": {},
   "source": [
    "**15. Vowel or Consonant:** Write a Python program that takes a single character as input and determines whether it is a vowel or a consonant."
   ]
  },
  {
   "cell_type": "code",
   "execution_count": 67,
   "metadata": {},
   "outputs": [
    {
     "data": {
      "text/plain": [
       "'Vowel'"
      ]
     },
     "execution_count": 67,
     "metadata": {},
     "output_type": "execute_result"
    }
   ],
   "source": [
    "def check_character(c: str) -> str:\n",
    "    vowel_set = {'a', 'e', 'i', 'o', 'u'}\n",
    "    return 'Vowel' if c in vowel_set else 'Consonant'\n",
    "\n",
    "check_character('i')"
   ]
  },
  {
   "cell_type": "markdown",
   "metadata": {},
   "source": [
    "**16. Time Classification:** Write a Python program that takes the time in hours (24-hour format) as input and prints “Good Morning”, “Good Afternoon”, “Good Evening”, or “Good Night” based on the time."
   ]
  },
  {
   "cell_type": "code",
   "execution_count": 68,
   "metadata": {},
   "outputs": [
    {
     "data": {
      "text/plain": [
       "'Good Afternoon'"
      ]
     },
     "execution_count": 68,
     "metadata": {},
     "output_type": "execute_result"
    }
   ],
   "source": [
    "greeting_map = {\n",
    "    (0, 4): \"Good Night\",\n",
    "    (5, 11): \"Good Morning\",\n",
    "    (12, 17): \"Good Afternoon\",\n",
    "    (18, 20): \"Good Evening\",\n",
    "    (19, 23): \"Good Night\"\n",
    "}\n",
    "\n",
    "def greeting(t: int, g_map: dict) -> str:\n",
    "    for (start, end), greet in g_map.items():\n",
    "        if start <= t <= end:\n",
    "            return greet\n",
    "\n",
    "greeting(14, greeting_map)"
   ]
  },
  {
   "cell_type": "markdown",
   "metadata": {},
   "source": [
    "**17. Triangle Type Checker:** Write a Python program that takes three sides of a triangle as input and determines whether it forms an equilateral, isosceles, or scalene triangle."
   ]
  },
  {
   "cell_type": "code",
   "execution_count": 77,
   "metadata": {},
   "outputs": [
    {
     "data": {
      "text/plain": [
       "'Isosceles'"
      ]
     },
     "execution_count": 77,
     "metadata": {},
     "output_type": "execute_result"
    }
   ],
   "source": [
    "def classify_triangle(a: int, b: int, c: int) -> str:\n",
    "    return 'Equilateral' if a == b == c else ('Isosceles' if (a == b or a == c or b == c) else 'Sceles')\n",
    "\n",
    "classify_triangle(3, 2, 3)"
   ]
  },
  {
   "cell_type": "markdown",
   "metadata": {},
   "source": [
    "**18. Quadratic Equation Solver:** Write a Python program that takes the coefficients (a, b, c) of a quadratic equation as input and calculates and prints the real roots (if they exist) or a message indicating the complex roots."
   ]
  },
  {
   "cell_type": "code",
   "execution_count": 82,
   "metadata": {},
   "outputs": [
    {
     "name": "stdout",
     "output_type": "stream",
     "text": [
      "Two real roots are 1.50 and 1.33\n"
     ]
    }
   ],
   "source": [
    "def calculate_root(a: int, b: int, c: int):\n",
    "    discriminant = b ** 2 - 4 * a * c\n",
    "    if discriminant > 0:\n",
    "        root1 = (- b + discriminant ** 0.5) / (2 * a)\n",
    "        root2 = (- b - discriminant ** 0.5) / (2 * a)\n",
    "        print(f\"Two real roots are {root1:.2f} and {root2:.2f}\")\n",
    "    elif discriminant == 0:\n",
    "        root = - b / (2 * a)\n",
    "        print(f\"One real root is {root:.2f}\")\n",
    "    else:\n",
    "        print(\"Root is complex number!\")\n",
    "\n",
    "calculate_root(6, -17, 12)\n",
    "    "
   ]
  },
  {
   "cell_type": "markdown",
   "metadata": {},
   "source": [
    "**19. Number Ranges:** Write a Python program that takes an integer as input and prints whether the number falls within the ranges: 0-50, 51-100, 101-150, or above 150."
   ]
  },
  {
   "cell_type": "code",
   "execution_count": 83,
   "metadata": {},
   "outputs": [
    {
     "data": {
      "text/plain": [
       "'51-100'"
      ]
     },
     "execution_count": 83,
     "metadata": {},
     "output_type": "execute_result"
    }
   ],
   "source": [
    "def check_range(x: int) -> str:\n",
    "    if 0 <= x <= 50:\n",
    "        return \"0-50\"\n",
    "    elif 51 <= x <= 100:\n",
    "        return \"51-100\"\n",
    "    elif 101 <= x <= 150:\n",
    "        return \"51-100\"\n",
    "    elif x > 150:\n",
    "        return \"Above 150\"\n",
    "\n",
    "check_range(99)"
   ]
  },
  {
   "cell_type": "markdown",
   "metadata": {},
   "source": [
    "## For & While Loops:"
   ]
  },
  {
   "cell_type": "markdown",
   "metadata": {},
   "source": [
    "**20. Sum of N Numbers:** Write a Python program using a for loop to calculate the sum of the first N natural numbers, where N is taken as input from the user."
   ]
  },
  {
   "cell_type": "code",
   "execution_count": null,
   "metadata": {},
   "outputs": [
    {
     "data": {
      "text/plain": [
       "15"
      ]
     },
     "execution_count": 6,
     "metadata": {},
     "output_type": "execute_result"
    }
   ],
   "source": [
    "def canculate_sum(N: int) -> int:\n",
    "    res = 0\n",
    "    if N == 0:\n",
    "        return 0\n",
    "    for n in range(1, N + 1):\n",
    "        res += n\n",
    "    return res\n",
    "canculate_sum(5)"
   ]
  },
  {
   "cell_type": "markdown",
   "metadata": {},
   "source": [
    "**21. Factorial Calculator:** Write a Python program using a while loop to calculate the factorial of a given number N."
   ]
  },
  {
   "cell_type": "code",
   "execution_count": 14,
   "metadata": {},
   "outputs": [
    {
     "data": {
      "text/plain": [
       "24"
      ]
     },
     "execution_count": 14,
     "metadata": {},
     "output_type": "execute_result"
    }
   ],
   "source": [
    "def calculate_factorial(N: int) -> int:\n",
    "    fact = 1\n",
    "    while N > 0:\n",
    "        fact *= N\n",
    "        N -= 1\n",
    "    return fact\n",
    "\n",
    "calculate_factorial(4)"
   ]
  },
  {
   "cell_type": "markdown",
   "metadata": {},
   "source": [
    "**22. Table of a Number:** Write a Python program using a for loop to print the multiplication table of a given number N."
   ]
  },
  {
   "cell_type": "code",
   "execution_count": 13,
   "metadata": {},
   "outputs": [
    {
     "name": "stdout",
     "output_type": "stream",
     "text": [
      "17 ×  1 =  17\n",
      "17 ×  2 =  34\n",
      "17 ×  3 =  51\n",
      "17 ×  4 =  68\n",
      "17 ×  5 =  85\n",
      "17 ×  6 = 102\n",
      "17 ×  7 = 119\n",
      "17 ×  8 = 136\n",
      "17 ×  9 = 153\n",
      "17 × 10 = 170\n"
     ]
    }
   ],
   "source": [
    "def multi_table(N: int) -> str:\n",
    "    for i in range(1, 11):\n",
    "        print(f\"{N:2} × {i:2} = {N * i:3}\")\n",
    "\n",
    "multi_table(17)"
   ]
  },
  {
   "cell_type": "markdown",
   "metadata": {},
   "source": [
    "**23. Count Digits in a Number:** Write a Python program using a while loop to count the number of digits in a given integer N."
   ]
  },
  {
   "cell_type": "code",
   "execution_count": 15,
   "metadata": {},
   "outputs": [
    {
     "data": {
      "text/plain": [
       "4"
      ]
     },
     "execution_count": 15,
     "metadata": {},
     "output_type": "execute_result"
    }
   ],
   "source": [
    "def count_digits(N: int) -> int:\n",
    "    count = 0\n",
    "    while N > 0:\n",
    "        N = N // 10\n",
    "        count += 1\n",
    "    return count\n",
    "\n",
    "count_digits(1234)"
   ]
  },
  {
   "cell_type": "markdown",
   "metadata": {},
   "source": [
    "**24. Fibonacci Sequence:** Write a Python program using a for loop to generate the Fibonacci sequence up to a given limit N."
   ]
  },
  {
   "cell_type": "code",
   "execution_count": 20,
   "metadata": {},
   "outputs": [
    {
     "name": "stdout",
     "output_type": "stream",
     "text": [
      "0 1 1 2 3 5 8 13 21 34 "
     ]
    }
   ],
   "source": [
    "def print_fibo(N: int):\n",
    "    a, b = 0, 1\n",
    "    for _ in range(N):\n",
    "        print(a, end=' ')\n",
    "        a, b = b, a + b\n",
    "\n",
    "print_fibo(10)"
   ]
  },
  {
   "cell_type": "markdown",
   "metadata": {},
   "source": [
    "**25. Sum of Even Numbers:** Write a Python program using a while loop to calculate the sum of all even numbers between 1 and N, where N is taken as input from the user."
   ]
  },
  {
   "cell_type": "code",
   "execution_count": 23,
   "metadata": {},
   "outputs": [
    {
     "data": {
      "text/plain": [
       "6"
      ]
     },
     "execution_count": 23,
     "metadata": {},
     "output_type": "execute_result"
    }
   ],
   "source": [
    "def sum_of_even() -> int:\n",
    "    N = int(input(\"Enter the higher limit (only number): \"))\n",
    "    res = 0\n",
    "    while N > 0:\n",
    "        if N % 2 == 0:\n",
    "            res += N\n",
    "        N -= 1\n",
    "    return res\n",
    "\n",
    "sum_of_even()"
   ]
  },
  {
   "cell_type": "markdown",
   "metadata": {},
   "source": [
    "**26. Print Patterns:** Write a Python program using nested for loops to print various patterns, such as a right-angled triangle, an inverted right-angled triangle, and so on."
   ]
  },
  {
   "cell_type": "code",
   "execution_count": null,
   "metadata": {},
   "outputs": [
    {
     "name": "stdout",
     "output_type": "stream",
     "text": [
      "* \n",
      "* * \n",
      "* * * \n",
      "* * * * \n",
      "* * * * * \n",
      "\n",
      "* * * * * \n",
      "* * * * \n",
      "* * * \n",
      "* * \n",
      "* \n",
      "\n",
      "    * \n",
      "   * * \n",
      "  * * * \n",
      " * * * * \n",
      "* * * * * \n"
     ]
    }
   ],
   "source": [
    "def right_triangle(n: int):\n",
    "    for i in range(1, n + 1):\n",
    "        for j in range(i):\n",
    "            print('*', end= ' ')\n",
    "        print()\n",
    "\n",
    "def inverted_right_triangle(n):\n",
    "    for i in range(n, 0, -1):\n",
    "        for j in range(i):\n",
    "            print('*', end=' ')\n",
    "        print()\n",
    "\n",
    "def pyramid(n):\n",
    "    for i in range(1, n + 1):\n",
    "        for j in range(n - i):\n",
    "            print(' ', end='')\n",
    "        for k in range(i):\n",
    "            print('*', end=' ')\n",
    "        print()\n",
    "\n",
    "right_triangle(5)\n",
    "print()\n",
    "inverted_right_triangle(5)\n",
    "print()\n",
    "pyramid(5)\n"
   ]
  },
  {
   "cell_type": "markdown",
   "metadata": {},
   "source": [
    "**27. Prime Number Checker:** Write a Python program using a while loop to check if a given number N is prime or not."
   ]
  },
  {
   "cell_type": "code",
   "execution_count": 7,
   "metadata": {},
   "outputs": [
    {
     "data": {
      "text/plain": [
       "True"
      ]
     },
     "execution_count": 7,
     "metadata": {},
     "output_type": "execute_result"
    }
   ],
   "source": [
    "def check_prime(n: int) -> bool:\n",
    "    i = 2\n",
    "    is_prime = True\n",
    "    while i <= n // 2:\n",
    "        if n % i == 0:\n",
    "            is_prime = False\n",
    "        i += 1\n",
    "    return is_prime\n",
    "\n",
    "check_prime(11)"
   ]
  },
  {
   "cell_type": "markdown",
   "metadata": {},
   "source": [
    "**28. List Manipulation:** Given a list of integers, write a Python program using a for loop to find the sum, average, maximum, and minimum values in the list."
   ]
  },
  {
   "cell_type": "code",
   "execution_count": 10,
   "metadata": {},
   "outputs": [
    {
     "data": {
      "text/plain": [
       "'Sum: 45, Average: 5.0, Maximum: 9, Minimum: 1'"
      ]
     },
     "execution_count": 10,
     "metadata": {},
     "output_type": "execute_result"
    }
   ],
   "source": [
    "def find_sum_avg_max_min(li: list):\n",
    "    sum_res = 0\n",
    "    max_n = li[0]\n",
    "    min_n = li[0]\n",
    "    for n in li:\n",
    "        sum_res += n\n",
    "        if n > max_n:\n",
    "            max_n = n\n",
    "        elif n < min_n:\n",
    "            min_n = n\n",
    "    return f\"Sum: {sum_res}, Average: {sum_res / len(li)}, Maximum: {max_n}, Minimum: {min_n}\"\n",
    "\n",
    "find_sum_avg_max_min([3, 8, 1, 2, 7, 5, 4, 9, 6])"
   ]
  },
  {
   "cell_type": "markdown",
   "metadata": {},
   "source": [
    "**29. Reverse String:** Write a Python program using a while loop to reverse a given string."
   ]
  },
  {
   "cell_type": "code",
   "execution_count": 2,
   "metadata": {},
   "outputs": [
    {
     "data": {
      "text/plain": [
       "'ecaeP dna raW'"
      ]
     },
     "execution_count": 2,
     "metadata": {},
     "output_type": "execute_result"
    }
   ],
   "source": [
    "def reverse_string(s: str) -> str:\n",
    "    chars = list(s)\n",
    "    left, right = 0, len(s) - 1\n",
    "    while left < right:\n",
    "        chars[left], chars[right] = chars[right], chars[left]\n",
    "        left += 1\n",
    "        right -= 1\n",
    "    return \"\".join(chars)\n",
    "\n",
    "reverse_string(\"War and Peace\")"
   ]
  },
  {
   "cell_type": "markdown",
   "metadata": {},
   "source": [
    "## Nested Loops:"
   ]
  },
  {
   "cell_type": "markdown",
   "metadata": {},
   "source": [
    "**30. Multiplication Table:** Write a Python program using nested loops to print the multiplication table from 1 to 10."
   ]
  },
  {
   "cell_type": "code",
   "execution_count": 8,
   "metadata": {},
   "outputs": [
    {
     "name": "stdout",
     "output_type": "stream",
     "text": [
      "  1   2   3   4   5   6   7   8   9  10 \n",
      "  2   4   6   8  10  12  14  16  18  20 \n",
      "  3   6   9  12  15  18  21  24  27  30 \n",
      "  4   8  12  16  20  24  28  32  36  40 \n",
      "  5  10  15  20  25  30  35  40  45  50 \n",
      "  6  12  18  24  30  36  42  48  54  60 \n",
      "  7  14  21  28  35  42  49  56  63  70 \n",
      "  8  16  24  32  40  48  56  64  72  80 \n",
      "  9  18  27  36  45  54  63  72  81  90 \n",
      " 10  20  30  40  50  60  70  80  90 100 \n"
     ]
    }
   ],
   "source": [
    "def sq_multiplication_table(n):\n",
    "    for i in range(1, n+1):\n",
    "        for j in range(1, n+1):\n",
    "            print(f\"{i * j :3}\", end= \" \")\n",
    "        print()\n",
    "\n",
    "sq_multiplication_table(10)"
   ]
  },
  {
   "cell_type": "markdown",
   "metadata": {},
   "source": [
    "**31. Print Patterns:** Write a Python program using nested loops to print the following pattern:\n",
    "\n",
    "### *\n",
    "\n",
    "### **\n",
    "\n",
    "### ***\n",
    "\n",
    "### ****\n",
    "\n",
    "### *****"
   ]
  },
  {
   "cell_type": "code",
   "execution_count": 10,
   "metadata": {},
   "outputs": [
    {
     "name": "stdout",
     "output_type": "stream",
     "text": [
      "* \n",
      "* * \n",
      "* * * \n",
      "* * * * \n",
      "* * * * * \n"
     ]
    }
   ],
   "source": [
    "def print_right_triange(n):\n",
    "    for i in range (1, n + 1):\n",
    "        for j in range(i):\n",
    "            print(\"*\", end=\" \")\n",
    "        print()\n",
    "\n",
    "print_right_triange(5)"
   ]
  },
  {
   "cell_type": "markdown",
   "metadata": {},
   "source": [
    "**32. Matrix Multiplication:** Write a Python program using nested loops to multiply two matrices."
   ]
  },
  {
   "cell_type": "code",
   "execution_count": 13,
   "metadata": {},
   "outputs": [
    {
     "data": {
      "text/plain": [
       "matrix([[19, 22],\n",
       "        [43, 50]])"
      ]
     },
     "execution_count": 13,
     "metadata": {},
     "output_type": "execute_result"
    }
   ],
   "source": [
    "def multiply_martices(x: list, y: list):\n",
    "    import numpy as np\n",
    "    matrix1 = np.matrix(x)\n",
    "    matrix2 = np.matrix(y)\n",
    "    return matrix1 @ matrix2\n",
    "\n",
    "a = [\n",
    "    [1, 2],\n",
    "    [3, 4]\n",
    "]\n",
    "\n",
    "b = [\n",
    "    [5, 6],\n",
    "    [7, 8]\n",
    "]\n",
    "\n",
    "multiply_martices(a, b)"
   ]
  },
  {
   "cell_type": "markdown",
   "metadata": {},
   "source": [
    "**33. Chessboard Pattern:** Write a Python program using nested loops to print a chessboard pattern (alternating “X” and “O” characters) of size 8×8."
   ]
  },
  {
   "cell_type": "code",
   "execution_count": null,
   "metadata": {},
   "outputs": [
    {
     "name": "stdout",
     "output_type": "stream",
     "text": [
      "X O X O X O X O \n",
      "O X O X O X O X \n",
      "X O X O X O X O \n",
      "O X O X O X O X \n",
      "X O X O X O X O \n",
      "O X O X O X O X \n",
      "X O X O X O X O \n",
      "O X O X O X O X \n"
     ]
    }
   ],
   "source": [
    "def chessboard(size: int):\n",
    "    for row in range(size):\n",
    "        for col in range(size):\n",
    "            if (row + col) % 2 == 0:\n",
    "                print('X', end=' ')\n",
    "            else:\n",
    "                print('O', end=' ')\n",
    "        print()\n",
    "\n",
    "chessboard(8)"
   ]
  },
  {
   "cell_type": "markdown",
   "metadata": {},
   "source": [
    "**34. Number Pyramid:** Write a Python program using nested loops to print a number pyramid like the following: 1 22 333 4444 55555"
   ]
  },
  {
   "cell_type": "code",
   "execution_count": 12,
   "metadata": {},
   "outputs": [
    {
     "name": "stdout",
     "output_type": "stream",
     "text": [
      "1 \n",
      "2 2 \n",
      "3 3 3 \n",
      "4 4 4 4 \n",
      "5 5 5 5 5 \n"
     ]
    }
   ],
   "source": [
    "def number_pyramid(n: int):\n",
    "    for i in range(1, n + 1):\n",
    "        for j in range(i):\n",
    "            print(i, end=\" \")\n",
    "        print()\n",
    "\n",
    "number_pyramid(5)"
   ]
  },
  {
   "cell_type": "markdown",
   "metadata": {},
   "source": [
    "## List Problems:"
   ]
  },
  {
   "cell_type": "markdown",
   "metadata": {},
   "source": [
    "**35. List Sum:** Write a Python program to find the sum of all elements in a given list of integers."
   ]
  },
  {
   "cell_type": "code",
   "execution_count": null,
   "metadata": {},
   "outputs": [
    {
     "data": {
      "text/plain": [
       "15"
      ]
     },
     "execution_count": 14,
     "metadata": {},
     "output_type": "execute_result"
    }
   ],
   "source": [
    "def sum_nums(x: list) -> int:\n",
    "    res = 0\n",
    "    for n in x:\n",
    "        res += n\n",
    "    return res\n",
    "\n",
    "sum_nums([1, 2, 3, 4, 5])"
   ]
  },
  {
   "cell_type": "markdown",
   "metadata": {},
   "source": [
    "**36. List Average:** Write a Python program to calculate the average of all elements in a given list of integers."
   ]
  },
  {
   "cell_type": "code",
   "execution_count": null,
   "metadata": {},
   "outputs": [
    {
     "data": {
      "text/plain": [
       "3.0"
      ]
     },
     "execution_count": 15,
     "metadata": {},
     "output_type": "execute_result"
    }
   ],
   "source": [
    "def avg_nums(x: list) -> float:\n",
    "    res = 0\n",
    "    for n in x:\n",
    "        res += n\n",
    "    return round(res / len(x), 2)\n",
    "avg_nums([1, 2, 3, 4, 5])"
   ]
  },
  {
   "cell_type": "markdown",
   "metadata": {},
   "source": [
    "**37. List Max and Min:** Write a Python program to find the maximum and minimum values in a given list of integers."
   ]
  },
  {
   "cell_type": "code",
   "execution_count": 17,
   "metadata": {},
   "outputs": [
    {
     "data": {
      "text/plain": [
       "'Max: 1 and Min: 10'"
      ]
     },
     "execution_count": 17,
     "metadata": {},
     "output_type": "execute_result"
    }
   ],
   "source": [
    "def max_min(x: list):\n",
    "    max_n = x[0]\n",
    "    min_n = x[0]\n",
    "    for n in x:\n",
    "        if max_n > n:\n",
    "            max_n = n\n",
    "    for n in x:\n",
    "        if min_n < n:\n",
    "            min_n = n\n",
    "    return f\"Max: {max_n} and Min: {min_n}\"\n",
    "\n",
    "max_min([2, 9, 6, 10, 1, 5, 3])"
   ]
  },
  {
   "cell_type": "markdown",
   "metadata": {},
   "source": [
    "**38. List Sorting:** Write a Python program to sort a list of integers in ascending order."
   ]
  },
  {
   "cell_type": "code",
   "execution_count": null,
   "metadata": {},
   "outputs": [
    {
     "data": {
      "text/plain": [
       "[1, 2, 3, 5, 6, 9, 10]"
      ]
     },
     "execution_count": 19,
     "metadata": {},
     "output_type": "execute_result"
    }
   ],
   "source": [
    "def sort_list(x: list) -> list:\n",
    "    n = len(x)\n",
    "    for i in range(n):\n",
    "        for j in range(n - i - 1):\n",
    "            if x[j] > x[j + 1]:\n",
    "                x[j], x[j + 1] = x[j + 1], x[j]\n",
    "    return x\n",
    "\n",
    "sort_list([2, 9, 6, 10, 1, 5, 3])\n",
    "            "
   ]
  },
  {
   "cell_type": "markdown",
   "metadata": {},
   "source": [
    "**39. List Filtering:** Given a list of integers, write a Python program to create a new list that contains only the even numbers from the original list."
   ]
  },
  {
   "cell_type": "code",
   "execution_count": 20,
   "metadata": {},
   "outputs": [
    {
     "data": {
      "text/plain": [
       "[2, 6, 10]"
      ]
     },
     "execution_count": 20,
     "metadata": {},
     "output_type": "execute_result"
    }
   ],
   "source": [
    "def even_list(x: list) -> list:\n",
    "    return [n for n in x if n % 2 == 0]\n",
    "\n",
    "even_list([2, 9, 6, 10, 1, 5, 3])"
   ]
  },
  {
   "cell_type": "markdown",
   "metadata": {},
   "source": [
    "**40. List Reversal:** Write a Python program to reverse a given list without using any built-in functions."
   ]
  },
  {
   "cell_type": "code",
   "execution_count": 21,
   "metadata": {},
   "outputs": [
    {
     "data": {
      "text/plain": [
       "[3, 5, 1, 10, 6, 9, 2]"
      ]
     },
     "execution_count": 21,
     "metadata": {},
     "output_type": "execute_result"
    }
   ],
   "source": [
    "def reverse_list(x: list) -> list:\n",
    "    return x[::-1]\n",
    "reverse_list([2, 9, 6, 10, 1, 5, 3])"
   ]
  },
  {
   "cell_type": "markdown",
   "metadata": {},
   "source": [
    "**41. List Manipulation:** Given two lists of integers, write a Python program to create a new list that contains elements common to both lists."
   ]
  },
  {
   "cell_type": "code",
   "execution_count": 22,
   "metadata": {},
   "outputs": [
    {
     "data": {
      "text/plain": [
       "[5, 7]"
      ]
     },
     "execution_count": 22,
     "metadata": {},
     "output_type": "execute_result"
    }
   ],
   "source": [
    "def common_elemens(x: list, y: list) -> list:\n",
    "    return [n for n in x if n in y]\n",
    "\n",
    "common_elemens([1, 3, 5, 7], [4, 5, 6, 7])"
   ]
  },
  {
   "cell_type": "markdown",
   "metadata": {},
   "source": [
    "**42. List Element Count:** Write a Python program to count the occurrences of a specific element in a given list."
   ]
  },
  {
   "cell_type": "code",
   "execution_count": 23,
   "metadata": {},
   "outputs": [
    {
     "data": {
      "text/plain": [
       "3"
      ]
     },
     "execution_count": 23,
     "metadata": {},
     "output_type": "execute_result"
    }
   ],
   "source": [
    "def count_occurrences(x: list, ele) -> int:\n",
    "    count = 0\n",
    "    for item in x:\n",
    "        if item == ele:\n",
    "            count += 1\n",
    "    return count\n",
    "\n",
    "count_occurrences([1, 3, 5, 7, 2, 3, 4, 3, 6], 3)"
   ]
  },
  {
   "cell_type": "markdown",
   "metadata": {},
   "source": [
    "**43. List Duplicates Removal:** Write a Python program to remove duplicates from a given list while preserving the order of the elements."
   ]
  },
  {
   "cell_type": "code",
   "execution_count": 24,
   "metadata": {},
   "outputs": [
    {
     "data": {
      "text/plain": [
       "[1, 2, 3, 4, 5, 6, 7]"
      ]
     },
     "execution_count": 24,
     "metadata": {},
     "output_type": "execute_result"
    }
   ],
   "source": [
    "def remove_duplicates(x: list) -> list:\n",
    "    temp_set = set(x)\n",
    "    return list(temp_set)\n",
    "\n",
    "remove_duplicates([1, 3, 5, 7, 2, 3, 4, 3, 6])"
   ]
  },
  {
   "cell_type": "markdown",
   "metadata": {},
   "source": [
    "**44. List Comprehension:** Given a list of integers, write a Python program to create a new list that contains the squares of the elements using list comprehension."
   ]
  },
  {
   "cell_type": "code",
   "execution_count": 25,
   "metadata": {},
   "outputs": [
    {
     "data": {
      "text/plain": [
       "[1, 4, 9, 16, 25]"
      ]
     },
     "execution_count": 25,
     "metadata": {},
     "output_type": "execute_result"
    }
   ],
   "source": [
    "def square_nums(x: list) -> list:\n",
    "    return [n ** 2 for n in x]\n",
    "\n",
    "square_nums([1, 2, 3, 4, 5])"
   ]
  },
  {
   "cell_type": "markdown",
   "metadata": {},
   "source": [
    "## Nested List Problems:"
   ]
  },
  {
   "cell_type": "markdown",
   "metadata": {},
   "source": [
    "**45. Matrix Addition:** Write a Python program to add two matrices represented as nested lists."
   ]
  },
  {
   "cell_type": "code",
   "execution_count": 5,
   "metadata": {},
   "outputs": [
    {
     "data": {
      "text/plain": [
       "[[6, 8], [10, 12]]"
      ]
     },
     "execution_count": 5,
     "metadata": {},
     "output_type": "execute_result"
    }
   ],
   "source": [
    "def add_two_matrices(x1: list, x2: list) -> list:\n",
    "    if len(x1) != len(x2):\n",
    "        raise ValueError(\"Length of two matrices are not equal!\")\n",
    "    res = []\n",
    "    for i in range(len(x1)):\n",
    "        res.append([])\n",
    "        for j in range(len(x1[i])):\n",
    "            res[i].append(x1[i][j] + x2[i][j])\n",
    "    return res\n",
    "\n",
    "m1 = [[1, 2],[3, 4]]\n",
    "m2 = [[5, 6],[7, 8]]\n",
    "\n",
    "add_two_matrices(m1, m2)\n"
   ]
  },
  {
   "cell_type": "markdown",
   "metadata": {},
   "source": [
    "**46. Flatten Nested List:** Write a Python program to flatten a given nested list and convert it into a single-dimensional list."
   ]
  },
  {
   "cell_type": "code",
   "execution_count": 11,
   "metadata": {},
   "outputs": [
    {
     "data": {
      "text/plain": [
       "[1, 2, 3, 4, 5, 6, 7, 8, 9, 10]"
      ]
     },
     "execution_count": 11,
     "metadata": {},
     "output_type": "execute_result"
    }
   ],
   "source": [
    "def flattten_nested_list(li: list) -> list:\n",
    "    res = []\n",
    "    for item in li:\n",
    "        if isinstance(item, list):\n",
    "            res.extend(flattten_nested_list(item))\n",
    "        else:\n",
    "            res.append(item)\n",
    "    return res\n",
    "    \n",
    "lst = [[1, 2], 3, 4, [5, [6, 7, [8, 9]]], 10]\n",
    "flattten_nested_list(lst)"
   ]
  },
  {
   "cell_type": "code",
   "execution_count": 15,
   "metadata": {},
   "outputs": [
    {
     "data": {
      "text/plain": [
       "[1, 2, 3, 4, 5, 6, 7, 8, 9]"
      ]
     },
     "execution_count": 15,
     "metadata": {},
     "output_type": "execute_result"
    }
   ],
   "source": [
    "def flattten_2d_nested_list(li: list) -> list:\n",
    "    res = []\n",
    "    for subli in li:\n",
    "        if isinstance(subli, list):\n",
    "            for item in subli:\n",
    "                res.append(item)\n",
    "        else:\n",
    "            res.append(subli)\n",
    "    return res\n",
    "\n",
    "lst = [[1, 2, 3], [4, 5], 6, [7, 8, 9]]\n",
    "flattten_2d_nested_list(lst)"
   ]
  },
  {
   "cell_type": "code",
   "execution_count": 17,
   "metadata": {},
   "outputs": [
    {
     "data": {
      "text/plain": [
       "[1, 2, 3, 4]"
      ]
     },
     "execution_count": 17,
     "metadata": {},
     "output_type": "execute_result"
    }
   ],
   "source": [
    "def flattten_just_2d_nested_list(li: list) -> list:\n",
    "    return [item for subli in li for item in subli]\n",
    "\n",
    "flattten_just_2d_nested_list([[1, 2], [3, 4]])"
   ]
  },
  {
   "cell_type": "markdown",
   "metadata": {},
   "source": [
    "**47. List Element Frequency:** Given a nested list containing lists of integers, write a Python program to count the frequency of each element in the entire nested list."
   ]
  },
  {
   "cell_type": "code",
   "execution_count": null,
   "metadata": {},
   "outputs": [
    {
     "data": {
      "text/plain": [
       "{1: 1, 2: 2, 3: 3, 4: 2, 5: 1}"
      ]
     },
     "execution_count": 13,
     "metadata": {},
     "output_type": "execute_result"
    }
   ],
   "source": [
    "def count_frequency(li: list) -> dict:\n",
    "    freq = {}\n",
    "    for subli in li:\n",
    "        for item in subli:\n",
    "                freq[item] = freq.get(item, 0) + 1\n",
    "    return freq\n",
    "\n",
    "count_frequency([[1, 2, 3], [2, 3, 4], [3, 4, 5]])\n"
   ]
  },
  {
   "cell_type": "markdown",
   "metadata": {},
   "source": [
    "**48. Transpose Matrix:** Write a Python program to transpose a given matrix represented as a nested list."
   ]
  },
  {
   "cell_type": "code",
   "execution_count": 24,
   "metadata": {},
   "outputs": [
    {
     "data": {
      "text/plain": [
       "[[1, 3], [2, 4]]"
      ]
     },
     "execution_count": 24,
     "metadata": {},
     "output_type": "execute_result"
    }
   ],
   "source": [
    "def transpose_matrix(li: list) -> list:\n",
    "    trans_li = [[None for _ in range(len(li))] for _ in range(len(li[0]))]\n",
    "    for row in range(len(li)):\n",
    "        for col in range(len(li[0])):\n",
    "            trans_li[col][row] = li[row][col]\n",
    "    return trans_li\n",
    "\n",
    "lst = [[1, 2], [3, 4]]\n",
    "transpose_matrix(lst)"
   ]
  },
  {
   "cell_type": "markdown",
   "metadata": {},
   "source": [
    "**49. List of Lists Concatenation:** Given a list of nested lists, write a Python program to concatenate all the sublists into a single flat list."
   ]
  },
  {
   "cell_type": "code",
   "execution_count": 26,
   "metadata": {},
   "outputs": [
    {
     "data": {
      "text/plain": [
       "[1, 2, 3, 4, 5, 6, 7, 8, 9, 10, 11, 12, 13, 14, 15]"
      ]
     },
     "execution_count": 26,
     "metadata": {},
     "output_type": "execute_result"
    }
   ],
   "source": [
    "def concat_nested_list(li: list) -> list:\n",
    "    return [item for nestli in li for subli in nestli for item in subli]\n",
    "\n",
    "lst = [[[1, 2], [3, 4]], [[5, 6], [7, 8]], [[9, 10], [11, 12], [13, 14, 15]]]\n",
    "concat_nested_list(lst)"
   ]
  },
  {
   "cell_type": "markdown",
   "metadata": {},
   "source": [
    "## Tuple Problems:"
   ]
  },
  {
   "cell_type": "markdown",
   "metadata": {},
   "source": [
    "**50. Tuple Concatenation:** Write a Python program to concatenate two tuples and create a new tuple."
   ]
  },
  {
   "cell_type": "code",
   "execution_count": 27,
   "metadata": {},
   "outputs": [
    {
     "data": {
      "text/plain": [
       "(1, 2, 3, 4, 5)"
      ]
     },
     "execution_count": 27,
     "metadata": {},
     "output_type": "execute_result"
    }
   ],
   "source": [
    "def concat_tuples(t1: tuple, t2: tuple) -> tuple:\n",
    "    return t1 + t2\n",
    "\n",
    "concat_tuples((1, 2, 3), (4, 5))"
   ]
  },
  {
   "cell_type": "markdown",
   "metadata": {},
   "source": [
    "**51. Tuple Unpacking:** Given a tuple with three elements (x, y, z), write a Python program to unpack the tuple and assign the values to three variables."
   ]
  },
  {
   "cell_type": "code",
   "execution_count": 29,
   "metadata": {},
   "outputs": [
    {
     "data": {
      "text/plain": [
       "(1, 2, 3)"
      ]
     },
     "execution_count": 29,
     "metadata": {},
     "output_type": "execute_result"
    }
   ],
   "source": [
    "def assign_value_from_tuple(t: tuple):\n",
    "    a, b, c = t\n",
    "    return a, b, c\n",
    "\n",
    "assign_value_from_tuple((1, 2, 3))"
   ]
  },
  {
   "cell_type": "markdown",
   "metadata": {},
   "source": [
    "**52. Tuple Sorting:** Write a Python program to sort a tuple of integers in ascending order."
   ]
  },
  {
   "cell_type": "code",
   "execution_count": 34,
   "metadata": {},
   "outputs": [
    {
     "data": {
      "text/plain": [
       "(2, 5, 6, 8)"
      ]
     },
     "execution_count": 34,
     "metadata": {},
     "output_type": "execute_result"
    }
   ],
   "source": [
    "def sort_tuple_value(t: tuple) -> tuple:\n",
    "    return tuple(sorted(t))\n",
    "\n",
    "sort_tuple_value((5, 2, 8, 6))"
   ]
  },
  {
   "cell_type": "markdown",
   "metadata": {},
   "source": [
    "**53. Tuple Frequency Count:** Given a tuple containing various elements, write a Python program to count the frequency of a specific element in the tuple."
   ]
  },
  {
   "cell_type": "code",
   "execution_count": 35,
   "metadata": {},
   "outputs": [
    {
     "data": {
      "text/plain": [
       "3"
      ]
     },
     "execution_count": 35,
     "metadata": {},
     "output_type": "execute_result"
    }
   ],
   "source": [
    "def count_frequency(t: tuple, ele: object) -> int:\n",
    "    count = 0\n",
    "    for item in t:\n",
    "        if item == ele:\n",
    "            count += 1\n",
    "    return count\n",
    "\n",
    "count_frequency((3, 2, 5, 3, 4, 3), 3)"
   ]
  },
  {
   "cell_type": "markdown",
   "metadata": {},
   "source": [
    "**54. Tuple to List:** Write a Python program to convert a tuple into a list."
   ]
  },
  {
   "cell_type": "code",
   "execution_count": 36,
   "metadata": {},
   "outputs": [
    {
     "data": {
      "text/plain": [
       "[1, 2, 3]"
      ]
     },
     "execution_count": 36,
     "metadata": {},
     "output_type": "execute_result"
    }
   ],
   "source": [
    "def tup_to_list(t: tuple) -> list:\n",
    "    return list(t)\n",
    "\n",
    "tup_to_list((1, 2, 3))"
   ]
  },
  {
   "cell_type": "markdown",
   "metadata": {},
   "source": [
    "**55. Tuple Reversal:** Write a Python program to reverse a tuple without using any built-in functions."
   ]
  },
  {
   "cell_type": "code",
   "execution_count": 37,
   "metadata": {},
   "outputs": [
    {
     "data": {
      "text/plain": [
       "(1, 2, 3)"
      ]
     },
     "execution_count": 37,
     "metadata": {},
     "output_type": "execute_result"
    }
   ],
   "source": [
    "def reverse_tuple(t: tuple) -> tuple:\n",
    "    return t[::-1]\n",
    "\n",
    "reverse_tuple((3, 2, 1))"
   ]
  },
  {
   "cell_type": "markdown",
   "metadata": {},
   "source": [
    "**56. Tuple Slicing:** Given a tuple, write a Python program to extract a slice of elements from it."
   ]
  },
  {
   "cell_type": "code",
   "execution_count": 40,
   "metadata": {},
   "outputs": [
    {
     "data": {
      "text/plain": [
       "(3, 4, 5)"
      ]
     },
     "execution_count": 40,
     "metadata": {},
     "output_type": "execute_result"
    }
   ],
   "source": [
    "def slice_tuple(t: tuple, start: int, end: int):\n",
    "    return t[start : end]\n",
    "\n",
    "slice_tuple((1, 2, 3, 4, 5, 6 ,7), 2, 5)"
   ]
  },
  {
   "cell_type": "markdown",
   "metadata": {},
   "source": [
    "**57. Tuple Operations:** Given two tuples of integers, write a Python program to perform element-wise addition, subtraction, and multiplication and create new tuples for each operation."
   ]
  },
  {
   "cell_type": "code",
   "execution_count": 53,
   "metadata": {},
   "outputs": [
    {
     "name": "stdout",
     "output_type": "stream",
     "text": [
      "Addition: (5, 7, 9)\n",
      "Subtraction: (-3, -3, -3)\n",
      "Multiplication: (4, 10, 18)\n"
     ]
    }
   ],
   "source": [
    "def tuple_operations(t1: tuple, t2: tuple):\n",
    "    if len(t1) != len(t2):\n",
    "        raise ValueError(\"Length of two tuples are not equal!\")\n",
    "    add_res = tuple(t1[i] + t2[i] for i in range(len(t1)))\n",
    "    sub_res = tuple(t1[i] - t2[i] for i in range(len(t1)))\n",
    "    mul_res = tuple(t1[i] * t2[i] for i in range(len(t1)))\n",
    "\n",
    "    print(f\"Addition: {add_res}\\nSubtraction: {sub_res}\\nMultiplication: {mul_res}\")\n",
    "\n",
    "tuple_operations((1, 2, 3), (4, 5, 6))"
   ]
  },
  {
   "cell_type": "markdown",
   "metadata": {},
   "source": [
    "**58. Tuple Membership Test:** Write a Python program that takes an element as input and checks if it exists in a given tuple."
   ]
  },
  {
   "cell_type": "code",
   "execution_count": 47,
   "metadata": {},
   "outputs": [
    {
     "data": {
      "text/plain": [
       "True"
      ]
     },
     "execution_count": 47,
     "metadata": {},
     "output_type": "execute_result"
    }
   ],
   "source": [
    "def check_element(t: tuple, ele: object) -> bool:\n",
    "    return ele in t\n",
    "\n",
    "check_element(('a', 'b', 'c', 'd'), 'c')"
   ]
  },
  {
   "cell_type": "markdown",
   "metadata": {},
   "source": [
    "**59. Tuple Packing:** Write a Python program to pack three variables into a single tuple and print the tuple."
   ]
  },
  {
   "cell_type": "code",
   "execution_count": 49,
   "metadata": {},
   "outputs": [
    {
     "data": {
      "text/plain": [
       "(1, 2, 3)"
      ]
     },
     "execution_count": 49,
     "metadata": {},
     "output_type": "execute_result"
    }
   ],
   "source": [
    "def create_tuple(a: object, b: object, c: object) -> tuple:\n",
    "    return tuple((a, b, c))\n",
    "\n",
    "create_tuple(1, 2, 3)"
   ]
  },
  {
   "cell_type": "markdown",
   "metadata": {},
   "source": [
    "## Nested List Problems:"
   ]
  },
  {
   "cell_type": "markdown",
   "metadata": {},
   "source": [
    "**60. Nested List Element Access:** Given a nested list, write a Python program to access and print specific elements from it."
   ]
  },
  {
   "cell_type": "code",
   "execution_count": 54,
   "metadata": {},
   "outputs": [
    {
     "name": "stdout",
     "output_type": "stream",
     "text": [
      "Element: 5\n",
      "Access Index: [1] [1]\n"
     ]
    }
   ],
   "source": [
    "def access_element(li: list, ele: object) -> str:\n",
    "    for li_idx, subli in enumerate(li):\n",
    "        for idx, item in enumerate(subli):\n",
    "            if item == ele:\n",
    "                return f\"Element: {item}\\nAccess Index: [{li_idx}] [{idx}]\"\n",
    "\n",
    "print(access_element([[1, 2, 3], [4, 5, 6], [7, 8, 9]], 5))"
   ]
  },
  {
   "cell_type": "markdown",
   "metadata": {},
   "source": [
    "**61. Nested List Flattening:** Write a Python program to flatten a nested list and convert it into a single-dimensional list."
   ]
  },
  {
   "cell_type": "code",
   "execution_count": null,
   "metadata": {},
   "outputs": [
    {
     "data": {
      "text/plain": [
       "[1, 2, 3, 4, 5]"
      ]
     },
     "execution_count": 55,
     "metadata": {},
     "output_type": "execute_result"
    }
   ],
   "source": [
    "def flatten_list(li: list) -> list:\n",
    "    return [item for subli in li for item in subli]\n",
    "\n",
    "flatten_list([[1, 2, 3], [4, 5]])"
   ]
  },
  {
   "cell_type": "markdown",
   "metadata": {},
   "source": [
    "**62. Nested List Sorting:** Given a nested list containing lists of integers, write a Python program to sort the sublists based on their lengths."
   ]
  },
  {
   "cell_type": "code",
   "execution_count": 62,
   "metadata": {},
   "outputs": [
    {
     "data": {
      "text/plain": [
       "[[1], [1, 6], [5, 6], [2, 7, 4], [1, 2, 3, 4], [1, 2, 5, 9, 6]]"
      ]
     },
     "execution_count": 62,
     "metadata": {},
     "output_type": "execute_result"
    }
   ],
   "source": [
    "def sort_nested_list(li: list) -> list:\n",
    "    n = len(li)\n",
    "    for i in range(n - 1):\n",
    "        for j in range(n - i - 1):\n",
    "            if len(li[j]) > len(li[j+1]):\n",
    "                li[j], li[j+1] = li[j+1], li[j]\n",
    "    return li\n",
    "\n",
    "sort_nested_list([[1, 2, 3, 4], [1, 6], [2, 7, 4], [5, 6], [1, 2, 5, 9, 6], [1]])"
   ]
  },
  {
   "cell_type": "markdown",
   "metadata": {},
   "source": [
    "**63. List of Tuples Conversion:** Given a nested list containing tuples of (x, y) coordinates, write a Python program to convert it into a list of x-coordinates and a list of y-coordinates."
   ]
  },
  {
   "cell_type": "code",
   "execution_count": 64,
   "metadata": {},
   "outputs": [
    {
     "name": "stdout",
     "output_type": "stream",
     "text": [
      "X-Coordinates: [4, 1, 3, 6]\n",
      "Y-Coordinates: [7, 5, 2, 9]\n"
     ]
    }
   ],
   "source": [
    "def list_converter(li: list) -> str:\n",
    "    x_li = []\n",
    "    y_li = []\n",
    "    for tup in li:\n",
    "        x_li.append(tup[0])\n",
    "        y_li.append(tup[1])\n",
    "    return f\"X-Coordinates: {x_li}\\nY-Coordinates: {y_li}\"\n",
    "\n",
    "print(list_converter([(4, 7), (1, 5), (3, 2), (6, 9)]))"
   ]
  },
  {
   "cell_type": "markdown",
   "metadata": {},
   "source": [
    "**64. Matrix Transpose:** Write a Python program to transpose a given matrix represented as a nested list."
   ]
  },
  {
   "cell_type": "code",
   "execution_count": 69,
   "metadata": {},
   "outputs": [
    {
     "data": {
      "text/plain": [
       "[[1, 4], [2, 5], [3, 6]]"
      ]
     },
     "execution_count": 69,
     "metadata": {},
     "output_type": "execute_result"
    }
   ],
   "source": [
    "def transpose_matrix(li: list) -> list:\n",
    "    trans_li = [[None for _ in range(len(li))] for _ in range(len(li[0]))]\n",
    "    for row in range(len(li)):\n",
    "        for col in range(len(li[0])):\n",
    "            trans_li[col][row] = li[row][col]\n",
    "    return trans_li\n",
    "\n",
    "lst = [[1, 2, 3], [4, 5, 6]]\n",
    "transpose_matrix(lst)"
   ]
  },
  {
   "cell_type": "markdown",
   "metadata": {},
   "source": [
    "**65. Nested List Concatenation:** Given a list of nested lists, write a Python program to concatenate all the sublists into a single flat list."
   ]
  },
  {
   "cell_type": "code",
   "execution_count": 70,
   "metadata": {},
   "outputs": [
    {
     "data": {
      "text/plain": [
       "[1, 2, 3, 4, 5, 6, 7, 8, 9, 10, 11, 12, 13, 14, 15]"
      ]
     },
     "execution_count": 70,
     "metadata": {},
     "output_type": "execute_result"
    }
   ],
   "source": [
    "def concat_nested_list(li: list) -> list:\n",
    "    return [item for nestli in li for subli in nestli for item in subli]\n",
    "\n",
    "lst = [[[1, 2], [3, 4]], [[5, 6], [7, 8]], [[9, 10], [11, 12], [13, 14, 15]]]\n",
    "concat_nested_list(lst)"
   ]
  },
  {
   "cell_type": "markdown",
   "metadata": {},
   "source": [
    "**66. Count Even Numbers:** Write a Python program to count the number of even numbers in a nested list."
   ]
  },
  {
   "cell_type": "code",
   "execution_count": null,
   "metadata": {},
   "outputs": [
    {
     "data": {
      "text/plain": [
       "5"
      ]
     },
     "execution_count": 72,
     "metadata": {},
     "output_type": "execute_result"
    }
   ],
   "source": [
    "def count_even_nums_in_nested_list(li: list) -> int:\n",
    "    count = 0\n",
    "    for nums in li:\n",
    "        for num in nums:\n",
    "            if num % 2 == 0:\n",
    "                count += 1\n",
    "    return count\n",
    "\n",
    "count_even_nums_in_nested_list([[1, 2, 3], [4, 5], [6, 7, 8], [9, 0]])"
   ]
  },
  {
   "cell_type": "markdown",
   "metadata": {},
   "source": [
    "**67. Maximum Element in Nested List:** Write a Python program to find the maximum element in a nested list of integers."
   ]
  },
  {
   "cell_type": "code",
   "execution_count": 73,
   "metadata": {},
   "outputs": [
    {
     "data": {
      "text/plain": [
       "9"
      ]
     },
     "execution_count": 73,
     "metadata": {},
     "output_type": "execute_result"
    }
   ],
   "source": [
    "def find_max(li: list) -> int:\n",
    "    max_n = li[0][0]\n",
    "    for nums in li:\n",
    "        for num in nums:\n",
    "            if num > max_n:\n",
    "                max_n = num\n",
    "    return max_n\n",
    "\n",
    "find_max([[7, 3], [2, 8, 1], [4, 2, 0], [9, 6, 4]])"
   ]
  },
  {
   "cell_type": "markdown",
   "metadata": {},
   "source": [
    "**68. Diagonal Sum of Matrix:** Given a square matrix represented as a nested list, write a Python program to calculate the sum of the elements in the main diagonal."
   ]
  },
  {
   "cell_type": "code",
   "execution_count": 75,
   "metadata": {},
   "outputs": [
    {
     "data": {
      "text/plain": [
       "15"
      ]
     },
     "execution_count": 75,
     "metadata": {},
     "output_type": "execute_result"
    }
   ],
   "source": [
    "def diagonal_sum(li: list) -> int:\n",
    "    d_sum = 0\n",
    "    for i in range(len(li[0])):\n",
    "        d_sum += li[i][i]\n",
    "    return d_sum\n",
    "\n",
    "lst = [\n",
    "    [1, 2, 3],\n",
    "    [4, 5, 6],\n",
    "    [7, 8, 9]\n",
    "]\n",
    "diagonal_sum(lst)"
   ]
  },
  {
   "cell_type": "markdown",
   "metadata": {},
   "source": [
    "**69. Nested List Element Search:** Write a Python program to search for a specific element in a nested list and return its position (row and column indices)."
   ]
  },
  {
   "cell_type": "code",
   "execution_count": 81,
   "metadata": {},
   "outputs": [
    {
     "name": "stdout",
     "output_type": "stream",
     "text": [
      "{'row': 1, 'col': 2, 'access_syntax': 'List[1][2]'}\n"
     ]
    }
   ],
   "source": [
    "def search_element(li: list, ele: object) -> dict:\n",
    "    for row, subli in enumerate(li):\n",
    "        for col, item in enumerate(subli):\n",
    "            if item == ele:\n",
    "                return {'row' : row,\n",
    "                        'col' : col,\n",
    "                        'access_syntax' : f\"List[{row}][{col}]\"}\n",
    "    return {'error' : 'Element not found!'}\n",
    "\n",
    "print(search_element([[1, 2, 3], [4, 5, 6], [7, 8, 9]], 6))"
   ]
  },
  {
   "cell_type": "markdown",
   "metadata": {},
   "source": [
    "## Set Problems:"
   ]
  },
  {
   "cell_type": "markdown",
   "metadata": {},
   "source": [
    "**70. Duplicate Removal:** Write a Python program that takes a list of elements as input and creates a new set containing only the unique elements from the list."
   ]
  },
  {
   "cell_type": "code",
   "execution_count": 1,
   "metadata": {},
   "outputs": [
    {
     "data": {
      "text/plain": [
       "{1, 2, 3, 4, 5}"
      ]
     },
     "execution_count": 1,
     "metadata": {},
     "output_type": "execute_result"
    }
   ],
   "source": [
    "def create_set(li: list) -> set:\n",
    "    return set(li)\n",
    "\n",
    "create_set([1, 2, 3, 3, 4, 5, 5])"
   ]
  },
  {
   "cell_type": "markdown",
   "metadata": {},
   "source": [
    "**71. Set Intersection:** Given two sets A and B, write a Python program to find their intersection and print the common elements."
   ]
  },
  {
   "cell_type": "code",
   "execution_count": 2,
   "metadata": {},
   "outputs": [
    {
     "data": {
      "text/plain": [
       "{2, 3}"
      ]
     },
     "execution_count": 2,
     "metadata": {},
     "output_type": "execute_result"
    }
   ],
   "source": [
    "def common_elements(s1: set, s2: set) -> set:\n",
    "    return s1.intersection(s2)\n",
    "\n",
    "common_elements({1, 2, 3}, {2, 3, 4})"
   ]
  },
  {
   "cell_type": "markdown",
   "metadata": {},
   "source": [
    "**72. Set Union:** Given two sets A and B, write a Python program to find their union and print all the distinct elements from both sets."
   ]
  },
  {
   "cell_type": "code",
   "execution_count": 3,
   "metadata": {},
   "outputs": [
    {
     "name": "stdout",
     "output_type": "stream",
     "text": [
      "{1, 2, 3, 4}\n"
     ]
    }
   ],
   "source": [
    "def print_distinct_elements(s1: set, s2: set):\n",
    "    print(s1.union(s2))\n",
    "\n",
    "print_distinct_elements({1, 2, 3}, {2, 3, 4})"
   ]
  },
  {
   "cell_type": "markdown",
   "metadata": {},
   "source": [
    "**73. Set Difference:** Given two sets A and B, write a Python program to find the difference between set A and set B (i.e., elements present in A but not in B) and print the result."
   ]
  },
  {
   "cell_type": "code",
   "execution_count": 7,
   "metadata": {},
   "outputs": [
    {
     "data": {
      "text/plain": [
       "{1}"
      ]
     },
     "execution_count": 7,
     "metadata": {},
     "output_type": "execute_result"
    }
   ],
   "source": [
    "def find_difference(s1: set, s2: set) -> set:\n",
    "    return s1.difference(s2)\n",
    "\n",
    "find_difference({1, 2, 3}, {2, 3, 4})"
   ]
  },
  {
   "cell_type": "code",
   "execution_count": 8,
   "metadata": {},
   "outputs": [
    {
     "data": {
      "text/plain": [
       "{1}"
      ]
     },
     "execution_count": 8,
     "metadata": {},
     "output_type": "execute_result"
    }
   ],
   "source": [
    "def find_difference(s1: set, s2: set) -> set:\n",
    "    return s1 - s2\n",
    "\n",
    "find_difference({1, 2, 3}, {2, 3, 4})"
   ]
  },
  {
   "cell_type": "markdown",
   "metadata": {},
   "source": [
    "**74. Set Symmetric Difference:** Given two sets A and B, write a Python program to find the symmetric difference between the two sets (i.e., elements that are present in either set A or set B, but not in both) and print the result."
   ]
  },
  {
   "cell_type": "code",
   "execution_count": 9,
   "metadata": {},
   "outputs": [
    {
     "data": {
      "text/plain": [
       "{1, 4}"
      ]
     },
     "execution_count": 9,
     "metadata": {},
     "output_type": "execute_result"
    }
   ],
   "source": [
    "def symmetric_difference(s1: set, s2: set) -> set:\n",
    "    return (s1 - s2).union(s2 - s1)\n",
    "\n",
    "symmetric_difference({1, 2, 3}, {2, 3, 4})"
   ]
  },
  {
   "cell_type": "code",
   "execution_count": 10,
   "metadata": {},
   "outputs": [
    {
     "data": {
      "text/plain": [
       "{1, 4}"
      ]
     },
     "execution_count": 10,
     "metadata": {},
     "output_type": "execute_result"
    }
   ],
   "source": [
    "def symmetric_difference(s1: set, s2: set) -> set:\n",
    "    return s1 ^ s2\n",
    "\n",
    "symmetric_difference({1, 2, 3}, {2, 3, 4})"
   ]
  },
  {
   "cell_type": "markdown",
   "metadata": {},
   "source": [
    "**75. Set Operations:** Given three sets A, B, and C, write a Python program to find and print the intersection of A and B, the union of B and C, and the difference between C and A."
   ]
  },
  {
   "cell_type": "code",
   "execution_count": 12,
   "metadata": {},
   "outputs": [
    {
     "name": "stdout",
     "output_type": "stream",
     "text": [
      "Intercetion of A and B: {2, 3}\n",
      "Union of B and C: {2, 3, 4, 5}\n",
      "Difference between C and A: {4, 5}\n"
     ]
    }
   ],
   "source": [
    "def set_operations(A: set, B: set, C: set):\n",
    "    print(f\"Intercetion of A and B: {A.intersection(B)}\")\n",
    "    print(f\"Union of B and C: {B.union(C)}\")\n",
    "    print(f\"Difference between C and A: {C.difference(A)}\")\n",
    "\n",
    "set_operations({1, 2, 3}, {2, 3, 4}, {3, 4, 5})\n"
   ]
  },
  {
   "cell_type": "markdown",
   "metadata": {},
   "source": [
    "**76. Set Subset Check:** Given two sets A and B, write a Python program to check if set A is a subset of set B and print the result."
   ]
  },
  {
   "cell_type": "code",
   "execution_count": 16,
   "metadata": {},
   "outputs": [
    {
     "data": {
      "text/plain": [
       "True"
      ]
     },
     "execution_count": 16,
     "metadata": {},
     "output_type": "execute_result"
    }
   ],
   "source": [
    "def check_subset(A: set, B: set) -> bool:\n",
    "    return A.issubset(B)\n",
    "\n",
    "check_subset({1, 3}, {1, 2, 3, 4, 5})"
   ]
  },
  {
   "cell_type": "markdown",
   "metadata": {},
   "source": [
    "**77. Set Superset Check:** Given two sets A and B, write a Python program to check if set A is a superset of set B and print the result."
   ]
  },
  {
   "cell_type": "code",
   "execution_count": 17,
   "metadata": {},
   "outputs": [
    {
     "data": {
      "text/plain": [
       "True"
      ]
     },
     "execution_count": 17,
     "metadata": {},
     "output_type": "execute_result"
    }
   ],
   "source": [
    "def check_superset(A: set, B: set) -> bool:\n",
    "    return A.issuperset(B)\n",
    "\n",
    "check_superset({1, 2, 3, 4, 5}, {1, 3})"
   ]
  },
  {
   "cell_type": "markdown",
   "metadata": {},
   "source": [
    "**78. Set Length Check:** Write a Python program that takes a set as input and prints the number of elements in the set."
   ]
  },
  {
   "cell_type": "code",
   "execution_count": 26,
   "metadata": {},
   "outputs": [
    {
     "data": {
      "text/plain": [
       "4"
      ]
     },
     "execution_count": 26,
     "metadata": {},
     "output_type": "execute_result"
    }
   ],
   "source": [
    "def print_set_length() -> int:\n",
    "    user_input = input(\"Enter elements of set, separated by spaces: \")\n",
    "    element_list = user_input.split()\n",
    "    s = set(element_list)\n",
    "    return len(s)\n",
    "\n",
    "print_set_length()"
   ]
  },
  {
   "cell_type": "markdown",
   "metadata": {},
   "source": [
    "**79. Set Membership Test:** Write a Python program that takes an element as input and checks if it exists in a given set. Print “Found” if the element is present and “Not Found” otherwise."
   ]
  },
  {
   "cell_type": "code",
   "execution_count": 27,
   "metadata": {},
   "outputs": [
    {
     "name": "stdout",
     "output_type": "stream",
     "text": [
      "Found\n"
     ]
    }
   ],
   "source": [
    "def check_membership(s: set, ele: object):\n",
    "    if ele in s:\n",
    "        print(\"Found\")\n",
    "    else:\n",
    "        print(\"Not found\")\n",
    "\n",
    "check_membership({'a', 'b', 'c', 'd'}, 'c')"
   ]
  },
  {
   "cell_type": "markdown",
   "metadata": {},
   "source": [
    "## Dictionary Problems:"
   ]
  },
  {
   "cell_type": "markdown",
   "metadata": {},
   "source": [
    "**80. Dictionary Manipulation:** Given a dictionary with student names as keys and their corresponding scores as values, write a Python program to add a new student to the dictionary and update the score of an existing student."
   ]
  },
  {
   "cell_type": "code",
   "execution_count": 28,
   "metadata": {},
   "outputs": [
    {
     "name": "stdout",
     "output_type": "stream",
     "text": [
      "{'Shafin': 86, 'Rajib': 95, 'Zahid': 75}\n"
     ]
    }
   ],
   "source": [
    "students = {\n",
    "    'Shafin': 86,\n",
    "    'Rajib' : 92\n",
    "}\n",
    "\n",
    "# Add new student\n",
    "students['Zahid'] = 75\n",
    "\n",
    "# Update score\n",
    "students['Rajib'] = 95\n",
    "\n",
    "print(students)"
   ]
  },
  {
   "cell_type": "markdown",
   "metadata": {},
   "source": [
    "**81. Dictionary Keys and Values:** Write a Python program that takes a dictionary as input and prints all the keys and values in separate lines."
   ]
  },
  {
   "cell_type": "code",
   "execution_count": 29,
   "metadata": {},
   "outputs": [
    {
     "name": "stdout",
     "output_type": "stream",
     "text": [
      "dict_keys(['Shafin', 'Rajib', 'Zahid'])\n",
      "dict_values([86, 95, 75])\n"
     ]
    }
   ],
   "source": [
    "def print_keys_values(d: dict):\n",
    "    print(d.keys())\n",
    "    print(d.values())\n",
    "\n",
    "print_keys_values(students)"
   ]
  },
  {
   "cell_type": "markdown",
   "metadata": {},
   "source": [
    "**82. Dictionary Length:** Write a Python program to calculate and print the number of key-value pairs in a given dictionary."
   ]
  },
  {
   "cell_type": "code",
   "execution_count": 30,
   "metadata": {},
   "outputs": [
    {
     "data": {
      "text/plain": [
       "3"
      ]
     },
     "execution_count": 30,
     "metadata": {},
     "output_type": "execute_result"
    }
   ],
   "source": [
    "def dict_length(d: dict) -> int:\n",
    "    return len(d)\n",
    "\n",
    "dict_length(students)"
   ]
  },
  {
   "cell_type": "markdown",
   "metadata": {},
   "source": [
    "**83. Dictionary Value Search:** Given a dictionary of items and their prices, write a Python program to search for an item based on its price and print the item’s name."
   ]
  },
  {
   "cell_type": "code",
   "execution_count": 31,
   "metadata": {},
   "outputs": [
    {
     "data": {
      "text/plain": [
       "'Rajib'"
      ]
     },
     "execution_count": 31,
     "metadata": {},
     "output_type": "execute_result"
    }
   ],
   "source": [
    "def find_item(d: dict, val) -> str:\n",
    "    for key, value in d.items():\n",
    "        if value == val:\n",
    "            return key\n",
    "    return \"Item not found!\"\n",
    "\n",
    "find_item(students, 95)"
   ]
  },
  {
   "cell_type": "markdown",
   "metadata": {},
   "source": [
    "**84. Dictionary Merging:** Given two dictionaries, write a Python program to merge them into a single dictionary and print the result."
   ]
  },
  {
   "cell_type": "code",
   "execution_count": 33,
   "metadata": {},
   "outputs": [
    {
     "data": {
      "text/plain": [
       "{'a': 1, 'b': 2, 'c': 3, 'd': 4}"
      ]
     },
     "execution_count": 33,
     "metadata": {},
     "output_type": "execute_result"
    }
   ],
   "source": [
    "def merge_dicts(d1: dict, d2: dict) -> dict:\n",
    "    return d1 | d2\n",
    "\n",
    "a = {\n",
    "    'a' : 1,\n",
    "    'b' : 2\n",
    "}\n",
    "\n",
    "b = {\n",
    "    'c' : 3,\n",
    "    'd' : 4\n",
    "}\n",
    "\n",
    "merge_dicts(a, b)"
   ]
  },
  {
   "cell_type": "markdown",
   "metadata": {},
   "source": [
    "**85. Dictionary Key Removal:** Given a dictionary of items and their quantities, write a Python program to remove a specific item from the dictionary based on user input."
   ]
  },
  {
   "cell_type": "code",
   "execution_count": 37,
   "metadata": {},
   "outputs": [
    {
     "data": {
      "text/plain": [
       "{'apple': 10, 'orange': 8, 'grapes': 12}"
      ]
     },
     "execution_count": 37,
     "metadata": {},
     "output_type": "execute_result"
    }
   ],
   "source": [
    "def remove_item(d: dict) -> dict:\n",
    "    item = input(\"Enter the item you want to remove: \")\n",
    "    if item in d:\n",
    "        d.pop(item)\n",
    "        return d\n",
    "    return f\"{item} not found in the dictonary!\"\n",
    "\n",
    "my_inventory = {\n",
    "    \"apple\": 10,\n",
    "    \"banana\": 5,\n",
    "    \"orange\": 8,\n",
    "    \"grapes\": 12\n",
    "}\n",
    "\n",
    "remove_item(my_inventory)"
   ]
  },
  {
   "cell_type": "markdown",
   "metadata": {},
   "source": [
    "**86. Dictionary Sorting:** Given a dictionary with names as keys and corresponding ages as values, write a Python program to sort the dictionary based on age in ascending order."
   ]
  },
  {
   "cell_type": "code",
   "execution_count": 42,
   "metadata": {},
   "outputs": [
    {
     "data": {
      "text/plain": [
       "{'Shafin': 17, 'Zahid': 18, 'Rajib': 20}"
      ]
     },
     "execution_count": 42,
     "metadata": {},
     "output_type": "execute_result"
    }
   ],
   "source": [
    "def sort_dict_on_val(d: dict) -> dict:\n",
    "    return dict(sorted(d.items(), key= lambda item: item[1]))\n",
    "\n",
    "people = { \n",
    "    'Shafin' : 17,\n",
    "    'Rajib'  : 20,\n",
    "    'Zahid'  : 18\n",
    "}\n",
    "\n",
    "sort_dict_on_val(people)"
   ]
  },
  {
   "cell_type": "markdown",
   "metadata": {},
   "source": [
    "**87. Dictionary Frequency Count:** Write a Python program that takes a string as input and creates a dictionary containing each character as a key and its frequency as the value."
   ]
  },
  {
   "cell_type": "code",
   "execution_count": null,
   "metadata": {},
   "outputs": [
    {
     "data": {
      "text/plain": [
       "{'a': 4, 'b': 2, 'c': 3, 'd': 2}"
      ]
     },
     "execution_count": 46,
     "metadata": {},
     "output_type": "execute_result"
    }
   ],
   "source": [
    "def create_dict() -> dict:\n",
    "    freq = {}\n",
    "    char = ''\n",
    "    while char != 'exit':\n",
    "        char = input(\"Enter charater one at a time or type exit to exit: \")\n",
    "        if char != 'exit':\n",
    "            freq[char] = freq.get(char, 0) + 1\n",
    "    return freq\n",
    "\n",
    "create_dict()"
   ]
  },
  {
   "cell_type": "markdown",
   "metadata": {},
   "source": [
    "**88. Dictionary Comprehension:** Given a list of integers, write a Python program to create a dictionary where the keys are the elements from the list, and the values are their squares."
   ]
  },
  {
   "cell_type": "code",
   "execution_count": null,
   "metadata": {},
   "outputs": [
    {
     "data": {
      "text/plain": [
       "{1: 1, 2: 4, 3: 9, 4: 16, 5: 25}"
      ]
     },
     "execution_count": 47,
     "metadata": {},
     "output_type": "execute_result"
    }
   ],
   "source": [
    "def dict_comp(li: list) -> dict:\n",
    "    return {n: n**2 for n in li}\n",
    "\n",
    "dict_comp([1, 2, 3, 4, 5])"
   ]
  },
  {
   "cell_type": "markdown",
   "metadata": {},
   "source": [
    "**89. Dictionary Key Check:** Write a Python program that takes a key as input and checks if it exists in a given dictionary. Print “Key Found” if the key is present and “Key Not Found” otherwise."
   ]
  },
  {
   "cell_type": "code",
   "execution_count": 48,
   "metadata": {},
   "outputs": [
    {
     "data": {
      "text/plain": [
       "True"
      ]
     },
     "execution_count": 48,
     "metadata": {},
     "output_type": "execute_result"
    }
   ],
   "source": [
    "def check_key(d: dict) -> bool:\n",
    "    d_k = input(\"Enter the key: \")\n",
    "    return d_k in d\n",
    "\n",
    "my_dict = {\n",
    "    'a': 4, 'b': 2, 'c': 3, 'd': 2\n",
    "}\n",
    "check_key(my_dict)"
   ]
  },
  {
   "cell_type": "markdown",
   "metadata": {},
   "source": [
    "## Nested Dictionary Problems:"
   ]
  },
  {
   "cell_type": "markdown",
   "metadata": {},
   "source": [
    "**90. Access Nested Dictionary:** Given a nested dictionary containing student details, write a Python program to access and print specific information such as a student’s name, age, and address."
   ]
  },
  {
   "cell_type": "code",
   "execution_count": 49,
   "metadata": {},
   "outputs": [
    {
     "data": {
      "text/plain": [
       "'Mamun'"
      ]
     },
     "execution_count": 49,
     "metadata": {},
     "output_type": "execute_result"
    }
   ],
   "source": [
    "students = {\n",
    "    '1001' : {\n",
    "        'name' : 'Arif',\n",
    "        'age'  : 18,\n",
    "        'address' : 'Mirpur, Dhaka'\n",
    "    },\n",
    "    '1002' : {\n",
    "        'name' : 'Mamun',\n",
    "        'age'  : 17,\n",
    "        'address' : 'Uttara, Dhaka'\n",
    "    },\n",
    "    '1003' : {\n",
    "        'name' : 'Nirob',\n",
    "        'age'  : 19,\n",
    "        'address' : 'Dhanmondi, Dhaka'\n",
    "    }\n",
    "}\n",
    "\n",
    "students['1002']['name']"
   ]
  },
  {
   "cell_type": "markdown",
   "metadata": {},
   "source": [
    "**91. Nested Dictionary Length:** Write a Python program to calculate and print the total number of key-value pairs in a nested dictionary."
   ]
  },
  {
   "cell_type": "code",
   "execution_count": 52,
   "metadata": {},
   "outputs": [
    {
     "data": {
      "text/plain": [
       "9"
      ]
     },
     "execution_count": 52,
     "metadata": {},
     "output_type": "execute_result"
    }
   ],
   "source": [
    "def len_of_nested_dict(d: dict):\n",
    "    length = 0\n",
    "    for val in d.values():\n",
    "        if isinstance(val, dict):\n",
    "            length += len_of_nested_dict(val)\n",
    "        else:    \n",
    "            length += 1\n",
    "    return length \n",
    "\n",
    "len_of_nested_dict(students)"
   ]
  },
  {
   "cell_type": "markdown",
   "metadata": {},
   "source": [
    "**92. Nested Dictionary Update:** Given a nested dictionary of employee details, write a Python program to update an employee’s salary based on their employee ID."
   ]
  },
  {
   "cell_type": "code",
   "execution_count": 2,
   "metadata": {},
   "outputs": [
    {
     "data": {
      "text/plain": [
       "{'101': {'name': 'Fahad', 'salary': 25000},\n",
       " '102': {'name': 'Rahim', 'salary': 35000},\n",
       " '103': {'name': 'Tanvir', 'salary': 40000},\n",
       " '104': {'name': 'Zamir', 'salary': 45000}}"
      ]
     },
     "execution_count": 2,
     "metadata": {},
     "output_type": "execute_result"
    }
   ],
   "source": [
    "def update_salary(d: dict, employee_id: str, salary: float):\n",
    "    if employee_id not in d:\n",
    "        return \"Employee ID not found!\"\n",
    "    d[employee_id]['salary'] = salary\n",
    "    return d\n",
    "\n",
    "employees = {\n",
    "    '101' : {\n",
    "        'name': 'Fahad',\n",
    "        'salary' : 25000\n",
    "    },\n",
    "    '102' : {\n",
    "        'name': 'Rahim',\n",
    "        'salary' : 35000\n",
    "    },\n",
    "    '103' : {\n",
    "        'name': 'Tanvir',\n",
    "        'salary' : 30000\n",
    "    },\n",
    "    '104' : {\n",
    "        'name': 'Zamir',\n",
    "        'salary' : 45000\n",
    "    }\n",
    "}\n",
    "\n",
    "update_salary(employees, '103', 40000)\n"
   ]
  },
  {
   "cell_type": "markdown",
   "metadata": {},
   "source": [
    "**93. Nested Dictionary Sorting:** Given a nested dictionary containing product details (product name, price, and quantity), write a Python program to sort the products based on their prices in ascending order."
   ]
  },
  {
   "cell_type": "code",
   "execution_count": 11,
   "metadata": {},
   "outputs": [
    {
     "data": {
      "text/plain": [
       "{'P104': {'name': 'Mac M4 Mini', 'price': 600, 'quantity': 4},\n",
       " 'P102': {'name': 'MacBook M4 Air', 'price': 1000, 'quantity': 3},\n",
       " 'P103': {'name': 'iPhone 16 Pro', 'price': 1300, 'quantity': 7},\n",
       " 'P101': {'name': 'iPhone 16 Pro Max', 'price': 1500, 'quantity': 5}}"
      ]
     },
     "execution_count": 11,
     "metadata": {},
     "output_type": "execute_result"
    }
   ],
   "source": [
    "def sort_product(d: dict) -> dict:\n",
    "    return dict(sorted(d.items(), key= lambda item: item[1]['price']))\n",
    "\n",
    "\n",
    "products = {\n",
    "    'P101' : {\n",
    "        'name': 'iPhone 16 Pro Max',\n",
    "        'price' : 1500,\n",
    "        'quantity' : 5\n",
    "    },\n",
    "    'P102' : {\n",
    "        'name': 'MacBook M4 Air',\n",
    "        'price' : 1000,\n",
    "        'quantity' : 3\n",
    "    },\n",
    "    'P103' : {\n",
    "        'name': 'iPhone 16 Pro',\n",
    "        'price' : 1300,\n",
    "        'quantity' : 7\n",
    "    },\n",
    "    'P104' : {\n",
    "        'name': 'Mac M4 Mini',\n",
    "        'price' : 600,\n",
    "        'quantity' : 4\n",
    "    }\n",
    "}\n",
    "\n",
    "sort_product(products)"
   ]
  },
  {
   "cell_type": "markdown",
   "metadata": {},
   "source": [
    "**94. Nested Dictionary Key Search:** Write a Python program that takes a key as input and searches for it in a nested dictionary. If found, print the corresponding value, otherwise, print “Key Not Found.”"
   ]
  },
  {
   "cell_type": "code",
   "execution_count": 14,
   "metadata": {},
   "outputs": [
    {
     "data": {
      "text/plain": [
       "{'a': 3}"
      ]
     },
     "execution_count": 14,
     "metadata": {},
     "output_type": "execute_result"
    }
   ],
   "source": [
    "def search_by_key(d: dict, k: object):\n",
    "    for key, value in d.items():\n",
    "        if key == k:\n",
    "                return value\n",
    "        if isinstance(value, dict):\n",
    "            result = search_by_key(value, k)\n",
    "            if result != \"Key Not Found\":\n",
    "                 return result\n",
    "    return \"Key Not Found\"\n",
    "\n",
    "nested_dict = {\n",
    "    'a': 1,\n",
    "    'b': {\n",
    "        'c': 2,\n",
    "        'd': {\n",
    "            'a': 3\n",
    "        }\n",
    "    }\n",
    "}\n",
    "\n",
    "search_by_key(nested_dict, 'd')"
   ]
  },
  {
   "cell_type": "markdown",
   "metadata": {},
   "source": [
    "## Break & Continue:"
   ]
  },
  {
   "cell_type": "markdown",
   "metadata": {},
   "source": [
    "**95. Prime Number Checker:** Write a Python program that takes a number as input and determines if it is a prime number or not. Use a `for` loop to check for factors. If a factor is found, `break` out of the loop."
   ]
  },
  {
   "cell_type": "code",
   "execution_count": 18,
   "metadata": {},
   "outputs": [
    {
     "data": {
      "text/plain": [
       "True"
      ]
     },
     "execution_count": 18,
     "metadata": {},
     "output_type": "execute_result"
    }
   ],
   "source": [
    "def check_prime(n: int) -> bool:\n",
    "    is_prime = True\n",
    "    for i in range(2, int(n ** 0.5) + 1):\n",
    "        if n % i == 0:\n",
    "            is_prime = False\n",
    "            break\n",
    "    return is_prime\n",
    "\n",
    "check_prime(17)"
   ]
  },
  {
   "cell_type": "markdown",
   "metadata": {},
   "source": [
    "**96. Even Number Printer:** Write a Python program to print all even numbers from 1 to 20. Use a `for` loop and `continue` to skip odd numbers."
   ]
  },
  {
   "cell_type": "code",
   "execution_count": 19,
   "metadata": {},
   "outputs": [
    {
     "name": "stdout",
     "output_type": "stream",
     "text": [
      "2 4 6 8 10 12 14 16 18 20 "
     ]
    }
   ],
   "source": [
    "for n in range(1, 21):\n",
    "    if n % 2 == 1:\n",
    "        continue\n",
    "    print(n, end=' ')"
   ]
  },
  {
   "cell_type": "markdown",
   "metadata": {},
   "source": [
    "**97. Password Validator:** Write a Python program that takes a password as input and checks if it meets the following criteria: at least 8 characters long, contains both uppercase and lowercase letters, and has at least one digit. If the password is valid, print “Password accepted.” If not, use `continue` to prompt the user to enter a valid password."
   ]
  },
  {
   "cell_type": "code",
   "execution_count": 20,
   "metadata": {},
   "outputs": [
    {
     "name": "stdout",
     "output_type": "stream",
     "text": [
      "Password must be at lease 8 characters long!\n",
      "Password must contain at least one uppercase letter!\n",
      "Password must contain at least one uppercase letter!\n",
      "Password must contain at least one lowercase letter!\n",
      "Password must contain at least one lowercase letter!\n",
      "Password accepted!\n"
     ]
    }
   ],
   "source": [
    "def validate_password():\n",
    "    while True:\n",
    "        password = input(\"Enter a valid Password: \")\n",
    "    \n",
    "        if len(password) < 8:\n",
    "            print(\"Password must be at lease 8 characters long!\")\n",
    "            continue\n",
    "        \n",
    "        if not any(char.isupper() for char in password):\n",
    "            print(\"Password must contain at least one uppercase letter!\")\n",
    "            continue\n",
    "\n",
    "        if not any(char.islower() for char in password):\n",
    "            print(\"Password must contain at least one lowercase letter!\")\n",
    "            continue\n",
    "\n",
    "        if not any(char.isdigit() for char in password):\n",
    "            print(\"Password must contain at least one digit!\")\n",
    "            continue\n",
    "\n",
    "        print(\"Password accepted!\")\n",
    "        break\n",
    "\n",
    "validate_password()"
   ]
  },
  {
   "cell_type": "markdown",
   "metadata": {},
   "source": [
    "**98. Divisible by 3 or 5:** Write a Python program to print all numbers from 1 to 50 that are divisible by either 3 or 5. Use a `for` loop and `continue` to skip numbers that are not divisible by either 3 or 5."
   ]
  },
  {
   "cell_type": "code",
   "execution_count": 23,
   "metadata": {},
   "outputs": [
    {
     "name": "stdout",
     "output_type": "stream",
     "text": [
      "3 5 6 9 10 12 15 18 20 21 24 25 27 30 33 35 36 39 40 42 45 48 50 "
     ]
    }
   ],
   "source": [
    "for n in range(1, 51):\n",
    "    if not ((n % 3 == 0) or (n % 5 == 0)):\n",
    "        continue\n",
    "    print(n, end=' ')"
   ]
  },
  {
   "cell_type": "markdown",
   "metadata": {},
   "source": [
    "**99. Positive Number Sum:** Write a Python program that takes positive numbers as input until a negative number is entered. Then, calculate and print the sum of all positive numbers entered. Use a `while` loop and `break` to exit the loop when a negative number is encountered."
   ]
  },
  {
   "cell_type": "code",
   "execution_count": 30,
   "metadata": {},
   "outputs": [
    {
     "data": {
      "text/plain": [
       "18"
      ]
     },
     "execution_count": 30,
     "metadata": {},
     "output_type": "execute_result"
    }
   ],
   "source": [
    "def positive_num_sum() -> int:\n",
    "    res = 0\n",
    "    while True:\n",
    "        n = int(input(\"Enter an integer number: \"))\n",
    "        if n < 0:\n",
    "            break\n",
    "        res += n\n",
    "    return res\n",
    "\n",
    "positive_num_sum()"
   ]
  },
  {
   "cell_type": "markdown",
   "metadata": {},
   "source": [
    "**100. Word Palindrome Checker:** Write a Python program that takes a word as input and checks if it is a palindrome (reads the same forwards and backward). Use `continue` to skip checking the word if its length is less than 3 characters."
   ]
  },
  {
   "cell_type": "code",
   "execution_count": 29,
   "metadata": {},
   "outputs": [
    {
     "name": "stdout",
     "output_type": "stream",
     "text": [
      "Please enter a word with at least 3 characters!\n"
     ]
    },
    {
     "data": {
      "text/plain": [
       "True"
      ]
     },
     "execution_count": 29,
     "metadata": {},
     "output_type": "execute_result"
    }
   ],
   "source": [
    "def check_palindrome() -> bool:\n",
    "    while True:\n",
    "        word = input(\"Enter a word with at least 3 characters: \")\n",
    "        if len(word) < 3:\n",
    "            print(\"Please enter a word with at least 3 characters!\")\n",
    "            continue\n",
    "        return word.lower() == word.lower()[::-1]\n",
    "\n",
    "check_palindrome()\n"
   ]
  },
  {
   "cell_type": "markdown",
   "metadata": {},
   "source": [
    "**101. Odd Number Finder:** Write a Python program to find the first odd number from a list of integers. Use a `for` loop and `break` to stop the loop when the first odd number is found."
   ]
  },
  {
   "cell_type": "code",
   "execution_count": 34,
   "metadata": {},
   "outputs": [
    {
     "name": "stdout",
     "output_type": "stream",
     "text": [
      "First odd number is 5!\n"
     ]
    }
   ],
   "source": [
    "def find_first_odd_num(li: list) -> int:\n",
    "    for n in li:\n",
    "        if n % 2 == 1:\n",
    "            print(f\"First odd number is {n}!\")\n",
    "            break\n",
    "\n",
    "find_first_odd_num([2, 8, 4, 5, 6, 3, 0])"
   ]
  },
  {
   "cell_type": "markdown",
   "metadata": {},
   "source": [
    "**102. Number Guessing Game:** Write a Python program that generates a random number between 1 and 100 and lets the user guess the number. Use a `while` loop, `break` when the correct number is guessed, and `continue` to keep prompting the user until they guess correctly."
   ]
  },
  {
   "cell_type": "code",
   "execution_count": 4,
   "metadata": {},
   "outputs": [
    {
     "name": "stdout",
     "output_type": "stream",
     "text": [
      "Too low!\n",
      "Too low!\n",
      "Too low!\n",
      "Too low!\n",
      "Too low!\n",
      "Too low!\n",
      "Cogratulations! You successfully guess the number!\n",
      "Attempt needed: 6\n"
     ]
    }
   ],
   "source": [
    "def number_guessing_game():\n",
    "    import random\n",
    "    num = random.randint(1, 100)\n",
    "    attempt = 0\n",
    "\n",
    "    while True:\n",
    "        guess = int(input(\"Enter your guess: \").strip())\n",
    "\n",
    "        if guess < num:\n",
    "            print(\"Too low!\")\n",
    "            attempt += 1\n",
    "            continue\n",
    "\n",
    "        if guess > num:\n",
    "            print(\"Too high!\")\n",
    "            attempt += 1\n",
    "            continue\n",
    "        \n",
    "        if guess == num:\n",
    "            print(\"Cogratulations! You successfully guess the number!\")\n",
    "            print(f\"Attempt needed: {attempt}\")\n",
    "            break\n",
    "\n",
    "number_guessing_game()\n"
   ]
  },
  {
   "cell_type": "markdown",
   "metadata": {},
   "source": [
    "**103. Vowel Counter:** Write a Python program that takes a string as input and counts the number of vowels (a, e, i, o, u) in it. Use a `for` loop and `continue` to skip counting non-vowel characters."
   ]
  },
  {
   "cell_type": "code",
   "execution_count": 7,
   "metadata": {},
   "outputs": [
    {
     "data": {
      "text/plain": [
       "5"
      ]
     },
     "execution_count": 7,
     "metadata": {},
     "output_type": "execute_result"
    }
   ],
   "source": [
    "def count_vowels(s: str) -> int:\n",
    "    vowel_set = {'a', 'e', 'i', 'o', 'u'}\n",
    "    count = 0\n",
    "    for char in s.lower():\n",
    "        if char not in vowel_set:\n",
    "            continue\n",
    "        count += 1\n",
    "    return count\n",
    "\n",
    "count_vowels(\"Data Science\")"
   ]
  },
  {
   "cell_type": "markdown",
   "metadata": {},
   "source": [
    "**104. Unique Characters:** Write a Python program that takes a string as input and checks if it contains all unique characters (no character repeats). Use a `for` loop and `break` when a character repeats."
   ]
  },
  {
   "cell_type": "code",
   "execution_count": 9,
   "metadata": {},
   "outputs": [
    {
     "data": {
      "text/plain": [
       "True"
      ]
     },
     "execution_count": 9,
     "metadata": {},
     "output_type": "execute_result"
    }
   ],
   "source": [
    "def check_unique_char(s: str) -> bool:\n",
    "    unique = set()\n",
    "    is_all_unique = True\n",
    "    for char in s.lower():\n",
    "        if char not in unique:\n",
    "            unique.add(char)\n",
    "        else:\n",
    "            is_all_unique = False\n",
    "            break\n",
    "    return is_all_unique\n",
    "\n",
    "check_unique_char(\"Python\")"
   ]
  },
  {
   "cell_type": "markdown",
   "metadata": {},
   "source": [
    "## Functions Problems:"
   ]
  },
  {
   "cell_type": "markdown",
   "metadata": {},
   "source": [
    "**105. Factorial Calculator:** Write a Python function called `factorial` that takes an integer as input and returns its factorial. Test the function with different values."
   ]
  },
  {
   "cell_type": "code",
   "execution_count": null,
   "metadata": {},
   "outputs": [],
   "source": []
  },
  {
   "cell_type": "markdown",
   "metadata": {},
   "source": [
    "**106. Palindrome Checker:** Write a Python function called `is_palindrome` that takes a string as input and returns `True` if it is a palindrome and `False` otherwise. Test the function with different words."
   ]
  },
  {
   "cell_type": "code",
   "execution_count": null,
   "metadata": {},
   "outputs": [],
   "source": []
  },
  {
   "cell_type": "markdown",
   "metadata": {},
   "source": [
    "**107. Even or Odd Checker:** Write a Python function called `even_or_odd` that takes an integer as input and returns “Even” if the number is even and “Odd” if the number is odd. Test the function with different numbers."
   ]
  },
  {
   "cell_type": "code",
   "execution_count": null,
   "metadata": {},
   "outputs": [],
   "source": []
  },
  {
   "cell_type": "markdown",
   "metadata": {},
   "source": [
    "**108. List Sum Calculator:** Write a Python function called `list_sum` that takes a list of integers as input and returns the sum of all elements in the list. Test the function with different lists."
   ]
  },
  {
   "cell_type": "code",
   "execution_count": null,
   "metadata": {},
   "outputs": [],
   "source": []
  },
  {
   "cell_type": "markdown",
   "metadata": {},
   "source": [
    "**109. Greatest Common Divisor (GCD) Calculator:** Write a Python function called `gcd` that takes two integers as input and returns their greatest common divisor. Test the function with different pairs of numbers."
   ]
  },
  {
   "cell_type": "code",
   "execution_count": null,
   "metadata": {},
   "outputs": [],
   "source": []
  },
  {
   "cell_type": "markdown",
   "metadata": {},
   "source": [
    "**110. Leap Year Checker:** Write a Python function called `is_leap_year` that takes a year as input and returns `True` if it is a leap year and `False` otherwise. Test the function with different years."
   ]
  },
  {
   "cell_type": "code",
   "execution_count": null,
   "metadata": {},
   "outputs": [],
   "source": []
  },
  {
   "cell_type": "markdown",
   "metadata": {},
   "source": [
    "## Nested Functions Problems:"
   ]
  },
  {
   "cell_type": "markdown",
   "metadata": {},
   "source": [
    "**111. Math Operations:** Write a Python function called `math_operations` that takes three numbers and a string representing an operation (‘add’, ‘subtract’, ‘multiply’, or ‘divide’). The function should return the result of the specified operation on the three numbers. Implement the math operations as nested functions."
   ]
  },
  {
   "cell_type": "code",
   "execution_count": null,
   "metadata": {},
   "outputs": [],
   "source": []
  },
  {
   "cell_type": "markdown",
   "metadata": {},
   "source": [
    "**112. Greeting Generator:** Write a Python function called `greeting_generator` that takes a name as input and returns a greeting message using nested functions. The greeting message should be customizable (e.g., “Hello, {name}! How are you today?”)."
   ]
  },
  {
   "cell_type": "code",
   "execution_count": null,
   "metadata": {},
   "outputs": [],
   "source": []
  },
  {
   "cell_type": "markdown",
   "metadata": {},
   "source": [
    "**113. Temperature Converter:** Write a Python function called `temperature_converter` that takes a temperature value and a string representing the scale (‘C’ for Celsius or ‘F’ for Fahrenheit) as input. The function should convert the temperature from one scale to the other using nested functions and return the converted value."
   ]
  },
  {
   "cell_type": "code",
   "execution_count": null,
   "metadata": {},
   "outputs": [],
   "source": []
  },
  {
   "cell_type": "markdown",
   "metadata": {},
   "source": [
    "## Recursive Functions Problems:"
   ]
  },
  {
   "cell_type": "markdown",
   "metadata": {},
   "source": [
    "**114. Factorial Calculation:** Write a recursive Python function called `factorial` that takes a non-negative integer as input and returns its factorial."
   ]
  },
  {
   "cell_type": "code",
   "execution_count": null,
   "metadata": {},
   "outputs": [],
   "source": []
  },
  {
   "cell_type": "markdown",
   "metadata": {},
   "source": [
    "**115. Fibonacci Series:** Write a recursive Python function called `Fibonacci` that takes an integer N as input and returns the Nth number in the Fibonacci series. The Fibonacci series is defined as follows: F(0) = 0, F(1) = 1, and F(n) = F(n-1) + F(n-2) for n > 1."
   ]
  },
  {
   "cell_type": "code",
   "execution_count": null,
   "metadata": {},
   "outputs": [],
   "source": []
  },
  {
   "cell_type": "markdown",
   "metadata": {},
   "source": [
    "**116. The sum of Digits:** Write a recursive Python function called `sum_of_digits` that takes an integer as input and returns the sum of its digits."
   ]
  },
  {
   "cell_type": "code",
   "execution_count": null,
   "metadata": {},
   "outputs": [],
   "source": []
  },
  {
   "cell_type": "markdown",
   "metadata": {},
   "source": [
    "**117. Binary Search:** Write a recursive Python function called `binary_search` that takes a sorted list and a target value as input and returns the index of the target value in the list using binary search. If the target value is not in the list, return -1."
   ]
  },
  {
   "cell_type": "code",
   "execution_count": null,
   "metadata": {},
   "outputs": [],
   "source": []
  },
  {
   "cell_type": "markdown",
   "metadata": {},
   "source": [
    "**118. Power Calculation:** Write a recursive Python function called `power` that takes two positive integers, base and exponent, as input and returns the value of base raised to the exponent."
   ]
  },
  {
   "cell_type": "code",
   "execution_count": null,
   "metadata": {},
   "outputs": [],
   "source": []
  }
 ],
 "metadata": {
  "kernelspec": {
   "display_name": "Python 3",
   "language": "python",
   "name": "python3"
  },
  "language_info": {
   "codemirror_mode": {
    "name": "ipython",
    "version": 3
   },
   "file_extension": ".py",
   "mimetype": "text/x-python",
   "name": "python",
   "nbconvert_exporter": "python",
   "pygments_lexer": "ipython3",
   "version": "3.13.3"
  }
 },
 "nbformat": 4,
 "nbformat_minor": 4
}
