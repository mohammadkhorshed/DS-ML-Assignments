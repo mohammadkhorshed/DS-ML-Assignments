{
 "cells": [
  {
   "cell_type": "markdown",
   "id": "d68f3577",
   "metadata": {},
   "source": [
    "# 115 Problems on Basic Python\n",
    "\n",
    "✅ This assignment (Assignment-02) is completed by `Mohammad Khorshed Alam`\n",
    "\n",
    "---"
   ]
  },
  {
   "cell_type": "markdown",
   "id": "840d3873",
   "metadata": {},
   "source": []
  }
 ],
 "metadata": {
  "language_info": {
   "name": "python"
  }
 },
 "nbformat": 4,
 "nbformat_minor": 5
}
